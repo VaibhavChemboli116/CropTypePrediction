{
 "cells": [
  {
   "cell_type": "code",
   "execution_count": 1,
   "id": "820528ce",
   "metadata": {
    "execution": {
     "iopub.execute_input": "2024-05-13T03:51:29.547873Z",
     "iopub.status.busy": "2024-05-13T03:51:29.547522Z",
     "iopub.status.idle": "2024-05-13T03:51:29.558347Z",
     "shell.execute_reply": "2024-05-13T03:51:29.557490Z"
    },
    "papermill": {
     "duration": 0.032663,
     "end_time": "2024-05-13T03:51:29.560403",
     "exception": false,
     "start_time": "2024-05-13T03:51:29.527740",
     "status": "completed"
    },
    "tags": []
   },
   "outputs": [],
   "source": [
    "import warnings\n",
    "warnings.filterwarnings(\"ignore\")"
   ]
  },
  {
   "cell_type": "code",
   "execution_count": 2,
   "id": "5fb0e182",
   "metadata": {
    "_cell_guid": "b1076dfc-b9ad-4769-8c92-a6c4dae69d19",
    "_uuid": "8f2839f25d086af736a60e9eeb907d3b93b6e0e5",
    "execution": {
     "iopub.execute_input": "2024-05-13T03:51:29.598379Z",
     "iopub.status.busy": "2024-05-13T03:51:29.597777Z",
     "iopub.status.idle": "2024-05-13T03:51:30.351776Z",
     "shell.execute_reply": "2024-05-13T03:51:30.350824Z"
    },
    "papermill": {
     "duration": 0.775439,
     "end_time": "2024-05-13T03:51:30.354165",
     "exception": false,
     "start_time": "2024-05-13T03:51:29.578726",
     "status": "completed"
    },
    "tags": []
   },
   "outputs": [
    {
     "data": {
      "text/html": [
       "<div>\n",
       "<style scoped>\n",
       "    .dataframe tbody tr th:only-of-type {\n",
       "        vertical-align: middle;\n",
       "    }\n",
       "\n",
       "    .dataframe tbody tr th {\n",
       "        vertical-align: top;\n",
       "    }\n",
       "\n",
       "    .dataframe thead th {\n",
       "        text-align: right;\n",
       "    }\n",
       "</style>\n",
       "<table border=\"1\" class=\"dataframe\">\n",
       "  <thead>\n",
       "    <tr style=\"text-align: right;\">\n",
       "      <th></th>\n",
       "      <th>N</th>\n",
       "      <th>P</th>\n",
       "      <th>K</th>\n",
       "      <th>ph</th>\n",
       "      <th>crop</th>\n",
       "    </tr>\n",
       "  </thead>\n",
       "  <tbody>\n",
       "    <tr>\n",
       "      <th>0</th>\n",
       "      <td>90</td>\n",
       "      <td>42</td>\n",
       "      <td>43</td>\n",
       "      <td>6.502985</td>\n",
       "      <td>rice</td>\n",
       "    </tr>\n",
       "    <tr>\n",
       "      <th>1</th>\n",
       "      <td>85</td>\n",
       "      <td>58</td>\n",
       "      <td>41</td>\n",
       "      <td>7.038096</td>\n",
       "      <td>rice</td>\n",
       "    </tr>\n",
       "    <tr>\n",
       "      <th>2</th>\n",
       "      <td>60</td>\n",
       "      <td>55</td>\n",
       "      <td>44</td>\n",
       "      <td>7.840207</td>\n",
       "      <td>rice</td>\n",
       "    </tr>\n",
       "    <tr>\n",
       "      <th>3</th>\n",
       "      <td>74</td>\n",
       "      <td>35</td>\n",
       "      <td>40</td>\n",
       "      <td>6.980401</td>\n",
       "      <td>rice</td>\n",
       "    </tr>\n",
       "    <tr>\n",
       "      <th>4</th>\n",
       "      <td>78</td>\n",
       "      <td>42</td>\n",
       "      <td>42</td>\n",
       "      <td>7.628473</td>\n",
       "      <td>rice</td>\n",
       "    </tr>\n",
       "  </tbody>\n",
       "</table>\n",
       "</div>"
      ],
      "text/plain": [
       "    N   P   K        ph  crop\n",
       "0  90  42  43  6.502985  rice\n",
       "1  85  58  41  7.038096  rice\n",
       "2  60  55  44  7.840207  rice\n",
       "3  74  35  40  6.980401  rice\n",
       "4  78  42  42  7.628473  rice"
      ]
     },
     "execution_count": 2,
     "metadata": {},
     "output_type": "execute_result"
    }
   ],
   "source": [
    "import pandas as pd\n",
    "import numpy as np\n",
    "df = pd.read_csv(\"/kaggle/input/soil-measures/soil_measures.csv\")\n",
    "df.head()"
   ]
  },
  {
   "cell_type": "code",
   "execution_count": 3,
   "id": "6b75ca99",
   "metadata": {
    "execution": {
     "iopub.execute_input": "2024-05-13T03:51:30.394323Z",
     "iopub.status.busy": "2024-05-13T03:51:30.393978Z",
     "iopub.status.idle": "2024-05-13T03:51:30.405749Z",
     "shell.execute_reply": "2024-05-13T03:51:30.404774Z"
    },
    "papermill": {
     "duration": 0.033279,
     "end_time": "2024-05-13T03:51:30.407935",
     "exception": false,
     "start_time": "2024-05-13T03:51:30.374656",
     "status": "completed"
    },
    "tags": []
   },
   "outputs": [
    {
     "data": {
      "text/plain": [
       "N       0\n",
       "P       0\n",
       "K       0\n",
       "ph      0\n",
       "crop    0\n",
       "dtype: int64"
      ]
     },
     "execution_count": 3,
     "metadata": {},
     "output_type": "execute_result"
    }
   ],
   "source": [
    "#The output informs that there aren't any missing values in our dataset\n",
    "df.isna().sum().sort_values()"
   ]
  },
  {
   "cell_type": "code",
   "execution_count": 4,
   "id": "caf7687e",
   "metadata": {
    "execution": {
     "iopub.execute_input": "2024-05-13T03:51:30.447342Z",
     "iopub.status.busy": "2024-05-13T03:51:30.447067Z",
     "iopub.status.idle": "2024-05-13T03:51:30.468707Z",
     "shell.execute_reply": "2024-05-13T03:51:30.467634Z"
    },
    "papermill": {
     "duration": 0.042715,
     "end_time": "2024-05-13T03:51:30.470642",
     "exception": false,
     "start_time": "2024-05-13T03:51:30.427927",
     "status": "completed"
    },
    "tags": []
   },
   "outputs": [
    {
     "name": "stdout",
     "output_type": "stream",
     "text": [
      "                 N            P            K           ph\n",
      "count  2200.000000  2200.000000  2200.000000  2200.000000\n",
      "mean     50.551818    53.362727    48.149091     6.469480\n",
      "std      36.917334    32.985883    50.647931     0.773938\n",
      "min       0.000000     5.000000     5.000000     3.504752\n",
      "25%      21.000000    28.000000    20.000000     5.971693\n",
      "50%      37.000000    51.000000    32.000000     6.425045\n",
      "75%      84.250000    68.000000    49.000000     6.923643\n",
      "max     140.000000   145.000000   205.000000     9.935091\n",
      "['rice' 'maize' 'chickpea' 'kidneybeans' 'pigeonpeas' 'mothbeans'\n",
      " 'mungbean' 'blackgram' 'lentil' 'pomegranate' 'banana' 'mango' 'grapes'\n",
      " 'watermelon' 'muskmelon' 'apple' 'orange' 'papaya' 'coconut' 'cotton'\n",
      " 'jute' 'coffee']\n",
      "22\n"
     ]
    }
   ],
   "source": [
    "#There is minute differences in the measure of cetranl tendencies, \n",
    "#but it is always better to center the data and there aren't any categorical data or string data so we don't need to encode anything\n",
    "print(df.describe())\n",
    "print(df['crop'].unique())\n",
    "print(df['crop'].nunique())"
   ]
  },
  {
   "cell_type": "code",
   "execution_count": 5,
   "id": "68e7deac",
   "metadata": {
    "execution": {
     "iopub.execute_input": "2024-05-13T03:51:30.508283Z",
     "iopub.status.busy": "2024-05-13T03:51:30.508037Z",
     "iopub.status.idle": "2024-05-13T03:51:31.689569Z",
     "shell.execute_reply": "2024-05-13T03:51:31.688787Z"
    },
    "papermill": {
     "duration": 1.20287,
     "end_time": "2024-05-13T03:51:31.691868",
     "exception": false,
     "start_time": "2024-05-13T03:51:30.488998",
     "status": "completed"
    },
    "tags": []
   },
   "outputs": [],
   "source": [
    "#Diving the dataset before centering so that it does not have data leakage(This can lead to information about the test set leaking into the training set)\n",
    "from sklearn.model_selection import train_test_split\n",
    "from sklearn.preprocessing import RobustScaler\n",
    "from sklearn.preprocessing import LabelEncoder\n",
    "X = df.drop(\"crop\", axis=1).values \n",
    "y = df[\"crop\"].values\n",
    "\n",
    "X_train, X_test, y_train, y_test = train_test_split(X, y, test_size=0.25,  \n",
    "random_state=116)\n",
    "#Among Standard, MinMax and Robust Scalers. The Robusst Scaler is better for our situation\n",
    "scaler = RobustScaler()\n",
    "X_train_scaled = scaler.fit_transform(X_train)\n",
    "X_test_scaled = scaler.transform(X_test)\n",
    "\n",
    "#Doing LabelEncoder for target variable\n",
    "label_encoder = LabelEncoder()\n",
    "y_train = label_encoder.fit_transform(y_train)\n",
    "y_test = label_encoder.transform(y_test)"
   ]
  },
  {
   "cell_type": "code",
   "execution_count": 6,
   "id": "4389e569",
   "metadata": {
    "execution": {
     "iopub.execute_input": "2024-05-13T03:51:31.730697Z",
     "iopub.status.busy": "2024-05-13T03:51:31.729853Z",
     "iopub.status.idle": "2024-05-13T03:51:31.736803Z",
     "shell.execute_reply": "2024-05-13T03:51:31.735929Z"
    },
    "papermill": {
     "duration": 0.028191,
     "end_time": "2024-05-13T03:51:31.738748",
     "exception": false,
     "start_time": "2024-05-13T03:51:31.710557",
     "status": "completed"
    },
    "tags": []
   },
   "outputs": [
    {
     "name": "stdout",
     "output_type": "stream",
     "text": [
      "{'apple': 100, 'banana': 100, 'blackgram': 100, 'chickpea': 100, 'coconut': 100, 'coffee': 100, 'cotton': 100, 'grapes': 100, 'jute': 100, 'kidneybeans': 100, 'lentil': 100, 'maize': 100, 'mango': 100, 'mothbeans': 100, 'mungbean': 100, 'muskmelon': 100, 'orange': 100, 'papaya': 100, 'pigeonpeas': 100, 'pomegranate': 100, 'rice': 100, 'watermelon': 100}\n"
     ]
    }
   ],
   "source": [
    "#From the output we can understand there isn't any class imbalance too,\n",
    "#So we don't need to do stratification\n",
    "unique_classes, class_counts = np.unique(y, return_counts=True)\n",
    "class_counts_dict = dict(zip(unique_classes, class_counts))\n",
    "\n",
    "print(class_counts_dict)"
   ]
  },
  {
   "cell_type": "code",
   "execution_count": 7,
   "id": "5cd6f1e0",
   "metadata": {
    "execution": {
     "iopub.execute_input": "2024-05-13T03:51:31.776362Z",
     "iopub.status.busy": "2024-05-13T03:51:31.776081Z",
     "iopub.status.idle": "2024-05-13T03:51:31.781777Z",
     "shell.execute_reply": "2024-05-13T03:51:31.780953Z"
    },
    "papermill": {
     "duration": 0.026597,
     "end_time": "2024-05-13T03:51:31.783736",
     "exception": false,
     "start_time": "2024-05-13T03:51:31.757139",
     "status": "completed"
    },
    "tags": []
   },
   "outputs": [
    {
     "data": {
      "text/plain": [
       "((1650, 4), (1650,), (550, 4), (550,))"
      ]
     },
     "execution_count": 7,
     "metadata": {},
     "output_type": "execute_result"
    }
   ],
   "source": [
    "X_train_scaled.shape, y_train.shape, X_test_scaled.shape, y_test.shape"
   ]
  },
  {
   "cell_type": "code",
   "execution_count": 8,
   "id": "6ea3092a",
   "metadata": {
    "execution": {
     "iopub.execute_input": "2024-05-13T03:51:31.821654Z",
     "iopub.status.busy": "2024-05-13T03:51:31.821365Z",
     "iopub.status.idle": "2024-05-13T03:51:31.825551Z",
     "shell.execute_reply": "2024-05-13T03:51:31.824792Z"
    },
    "papermill": {
     "duration": 0.025295,
     "end_time": "2024-05-13T03:51:31.827414",
     "exception": false,
     "start_time": "2024-05-13T03:51:31.802119",
     "status": "completed"
    },
    "tags": []
   },
   "outputs": [],
   "source": [
    "train_accuracies = []\n",
    "test_accuracies = []\n",
    "f1_scores = []\n",
    "recall_scores = []\n",
    "precision_scores = []"
   ]
  },
  {
   "cell_type": "markdown",
   "id": "25230c1d",
   "metadata": {
    "papermill": {
     "duration": 0.01878,
     "end_time": "2024-05-13T03:51:31.864666",
     "exception": false,
     "start_time": "2024-05-13T03:51:31.845886",
     "status": "completed"
    },
    "tags": []
   },
   "source": [
    "### KNN"
   ]
  },
  {
   "cell_type": "code",
   "execution_count": 9,
   "id": "cb6a156d",
   "metadata": {
    "execution": {
     "iopub.execute_input": "2024-05-13T03:51:31.905087Z",
     "iopub.status.busy": "2024-05-13T03:51:31.904355Z",
     "iopub.status.idle": "2024-05-13T03:51:31.910376Z",
     "shell.execute_reply": "2024-05-13T03:51:31.909525Z"
    },
    "papermill": {
     "duration": 0.027695,
     "end_time": "2024-05-13T03:51:31.912241",
     "exception": false,
     "start_time": "2024-05-13T03:51:31.884546",
     "status": "completed"
    },
    "tags": []
   },
   "outputs": [
    {
     "data": {
      "text/plain": [
       "'from sklearn.neighbors import KNeighborsClassifier\\nfrom sklearn.metrics import classification_report\\nknn = KNeighborsClassifier(22)\\nknn.fit(X_train_scaled,y_train)\\ny_pred = knn.predict(X_test_scaled)\\nprint(classification_report(y_test, y_pred))'"
      ]
     },
     "execution_count": 9,
     "metadata": {},
     "output_type": "execute_result"
    }
   ],
   "source": [
    "\"\"\"from sklearn.neighbors import KNeighborsClassifier\n",
    "from sklearn.metrics import classification_report\n",
    "knn = KNeighborsClassifier(22)\n",
    "knn.fit(X_train_scaled,y_train)\n",
    "y_pred = knn.predict(X_test_scaled)\n",
    "print(classification_report(y_test, y_pred))\"\"\""
   ]
  },
  {
   "cell_type": "code",
   "execution_count": 10,
   "id": "2671c24c",
   "metadata": {
    "execution": {
     "iopub.execute_input": "2024-05-13T03:51:31.952035Z",
     "iopub.status.busy": "2024-05-13T03:51:31.951715Z",
     "iopub.status.idle": "2024-05-13T03:54:14.184351Z",
     "shell.execute_reply": "2024-05-13T03:54:14.183428Z"
    },
    "papermill": {
     "duration": 162.2554,
     "end_time": "2024-05-13T03:54:14.186563",
     "exception": false,
     "start_time": "2024-05-13T03:51:31.931163",
     "status": "completed"
    },
    "tags": []
   },
   "outputs": [
    {
     "name": "stdout",
     "output_type": "stream",
     "text": [
      "Performing cross-validation for n_neighbors = 2:\n",
      "Number of folds: 5\n",
      "Best parameters: {'p': 1, 'n_neighbors': 2, 'metric': 'manhattan'}\n",
      "Best score: 0.7551515151515151\n",
      "acc: 0.8709090909090909\n",
      "\n",
      "Number of folds: 10\n",
      "Best parameters: {'p': 1, 'n_neighbors': 2, 'metric': 'euclidean'}\n",
      "Best score: 0.7593939393939393\n",
      "acc: 0.8690909090909091\n",
      "\n",
      "Number of folds: 15\n",
      "Best parameters: {'p': 1, 'n_neighbors': 2, 'metric': 'euclidean'}\n",
      "Best score: 0.7563636363636363\n",
      "acc: 0.8690909090909091\n",
      "\n",
      "Number of folds: 20\n",
      "Best parameters: {'p': 1, 'n_neighbors': 2, 'metric': 'euclidean'}\n",
      "Best score: 0.758066411989421\n",
      "acc: 0.8690909090909091\n",
      "\n",
      "Number of folds: 22\n",
      "Best parameters: {'p': 1, 'n_neighbors': 2, 'metric': 'euclidean'}\n",
      "Best score: 0.7587878787878787\n",
      "acc: 0.8690909090909091\n",
      "\n",
      "Number of folds: 25\n",
      "Best parameters: {'p': 1, 'n_neighbors': 2, 'metric': 'euclidean'}\n",
      "Best score: 0.7612121212121212\n",
      "acc: 0.8690909090909091\n",
      "\n",
      "Performing cross-validation for n_neighbors = 3:\n",
      "Number of folds: 5\n",
      "Best parameters: {'p': 1, 'n_neighbors': 3, 'metric': 'chebyshev'}\n",
      "Best score: 0.7551515151515151\n",
      "acc: 0.8696969696969697\n",
      "\n",
      "Number of folds: 10\n",
      "Best parameters: {'p': 1, 'n_neighbors': 3, 'metric': 'euclidean'}\n",
      "Best score: 0.7563636363636363\n",
      "acc: 0.8775757575757576\n",
      "\n",
      "Number of folds: 15\n",
      "Best parameters: {'p': 1, 'n_neighbors': 3, 'metric': 'chebyshev'}\n",
      "Best score: 0.7533333333333334\n",
      "acc: 0.8696969696969697\n",
      "\n",
      "Number of folds: 20\n",
      "Best parameters: {'p': 1, 'n_neighbors': 3, 'metric': 'chebyshev'}\n",
      "Best score: 0.759954451954158\n",
      "acc: 0.8696969696969697\n",
      "\n",
      "Number of folds: 22\n",
      "Best parameters: {'p': 1, 'n_neighbors': 3, 'metric': 'euclidean'}\n",
      "Best score: 0.7545454545454544\n",
      "acc: 0.8775757575757576\n",
      "\n",
      "Number of folds: 25\n",
      "Best parameters: {'p': 1, 'n_neighbors': 3, 'metric': 'chebyshev'}\n",
      "Best score: 0.76\n",
      "acc: 0.8696969696969697\n",
      "\n",
      "Performing cross-validation for n_neighbors = 4:\n",
      "Number of folds: 5\n",
      "Best parameters: {'p': 1, 'n_neighbors': 4, 'metric': 'euclidean'}\n",
      "Best score: 0.7575757575757576\n",
      "acc: 0.8412121212121212\n",
      "\n",
      "Number of folds: 10\n",
      "Best parameters: {'p': 1, 'n_neighbors': 4, 'metric': 'manhattan'}\n",
      "Best score: 0.7648484848484849\n",
      "acc: 0.8496969696969697\n",
      "\n",
      "Number of folds: 15\n",
      "Best parameters: {'p': 1, 'n_neighbors': 4, 'metric': 'manhattan'}\n",
      "Best score: 0.7648484848484849\n",
      "acc: 0.8496969696969697\n",
      "\n",
      "Number of folds: 20\n",
      "Best parameters: {'p': 1, 'n_neighbors': 4, 'metric': 'manhattan'}\n",
      "Best score: 0.7696297384660593\n",
      "acc: 0.8496969696969697\n",
      "\n",
      "Number of folds: 22\n",
      "Best parameters: {'p': 1, 'n_neighbors': 4, 'metric': 'manhattan'}\n",
      "Best score: 0.7672727272727274\n",
      "acc: 0.8496969696969697\n",
      "\n",
      "Number of folds: 25\n",
      "Best parameters: {'p': 1, 'n_neighbors': 4, 'metric': 'manhattan'}\n",
      "Best score: 0.770909090909091\n",
      "acc: 0.8496969696969697\n",
      "\n",
      "Performing cross-validation for n_neighbors = 5:\n",
      "Number of folds: 5\n",
      "Best parameters: {'p': 1, 'n_neighbors': 5, 'metric': 'chebyshev'}\n",
      "Best score: 0.7527272727272727\n",
      "acc: 0.8448484848484848\n",
      "\n",
      "Number of folds: 10\n",
      "Best parameters: {'p': 1, 'n_neighbors': 5, 'metric': 'manhattan'}\n",
      "Best score: 0.7672727272727272\n",
      "acc: 0.8436363636363636\n",
      "\n",
      "Number of folds: 15\n",
      "Best parameters: {'p': 1, 'n_neighbors': 5, 'metric': 'manhattan'}\n",
      "Best score: 0.7672727272727272\n",
      "acc: 0.8436363636363636\n",
      "\n",
      "Number of folds: 20\n",
      "Best parameters: {'p': 1, 'n_neighbors': 5, 'metric': 'manhattan'}\n",
      "Best score: 0.7696076990890391\n",
      "acc: 0.8436363636363636\n",
      "\n",
      "Number of folds: 22\n",
      "Best parameters: {'p': 1, 'n_neighbors': 5, 'metric': 'manhattan'}\n",
      "Best score: 0.7672727272727274\n",
      "acc: 0.8436363636363636\n",
      "\n",
      "Number of folds: 25\n",
      "Best parameters: {'p': 1, 'n_neighbors': 5, 'metric': 'manhattan'}\n",
      "Best score: 0.7690909090909092\n",
      "acc: 0.8436363636363636\n",
      "\n",
      "Performing cross-validation for n_neighbors = 6:\n",
      "Number of folds: 5\n",
      "Best parameters: {'p': 1, 'n_neighbors': 6, 'metric': 'euclidean'}\n",
      "Best score: 0.7618181818181818\n",
      "acc: 0.8290909090909091\n",
      "\n",
      "Number of folds: 10\n",
      "Best parameters: {'p': 1, 'n_neighbors': 6, 'metric': 'euclidean'}\n",
      "Best score: 0.7775757575757576\n",
      "acc: 0.8290909090909091\n",
      "\n",
      "Number of folds: 15\n",
      "Best parameters: {'p': 1, 'n_neighbors': 6, 'metric': 'euclidean'}\n",
      "Best score: 0.7739393939393939\n",
      "acc: 0.8290909090909091\n",
      "\n",
      "Number of folds: 20\n",
      "Best parameters: {'p': 1, 'n_neighbors': 6, 'metric': 'euclidean'}\n",
      "Best score: 0.7774757566852777\n",
      "acc: 0.8290909090909091\n",
      "\n",
      "Number of folds: 22\n",
      "Best parameters: {'p': 1, 'n_neighbors': 6, 'metric': 'euclidean'}\n",
      "Best score: 0.772121212121212\n",
      "acc: 0.8290909090909091\n",
      "\n",
      "Number of folds: 25\n",
      "Best parameters: {'p': 1, 'n_neighbors': 6, 'metric': 'euclidean'}\n",
      "Best score: 0.7781818181818181\n",
      "acc: 0.8290909090909091\n",
      "\n",
      "Performing cross-validation for n_neighbors = 7:\n",
      "Number of folds: 5\n",
      "Best parameters: {'p': 1, 'n_neighbors': 7, 'metric': 'manhattan'}\n",
      "Best score: 0.7575757575757576\n",
      "acc: 0.8412121212121212\n",
      "\n",
      "Number of folds: 10\n",
      "Best parameters: {'p': 1, 'n_neighbors': 7, 'metric': 'manhattan'}\n",
      "Best score: 0.7563636363636362\n",
      "acc: 0.8412121212121212\n",
      "\n",
      "Number of folds: 15\n",
      "Best parameters: {'p': 1, 'n_neighbors': 7, 'metric': 'manhattan'}\n",
      "Best score: 0.7624242424242423\n",
      "acc: 0.8412121212121212\n",
      "\n",
      "Number of folds: 20\n",
      "Best parameters: {'p': 1, 'n_neighbors': 7, 'metric': 'manhattan'}\n",
      "Best score: 0.7635395239494565\n",
      "acc: 0.8412121212121212\n",
      "\n",
      "Number of folds: 22\n",
      "Best parameters: {'p': 1, 'n_neighbors': 7, 'metric': 'chebyshev'}\n",
      "Best score: 0.7624242424242424\n",
      "acc: 0.8333333333333334\n",
      "\n",
      "Number of folds: 25\n",
      "Best parameters: {'p': 1, 'n_neighbors': 7, 'metric': 'chebyshev'}\n",
      "Best score: 0.7666666666666666\n",
      "acc: 0.8333333333333334\n",
      "\n",
      "Performing cross-validation for n_neighbors = 8:\n",
      "Number of folds: 5\n",
      "Best parameters: {'p': 1, 'n_neighbors': 8, 'metric': 'euclidean'}\n",
      "Best score: 0.7539393939393939\n",
      "acc: 0.8266666666666667\n",
      "\n",
      "Number of folds: 10\n",
      "Best parameters: {'p': 1, 'n_neighbors': 8, 'metric': 'euclidean'}\n",
      "Best score: 0.7612121212121212\n",
      "acc: 0.8266666666666667\n",
      "\n",
      "Number of folds: 15\n",
      "Best parameters: {'p': 1, 'n_neighbors': 8, 'metric': 'chebyshev'}\n",
      "Best score: 0.7630303030303032\n",
      "acc: 0.8187878787878788\n",
      "\n",
      "Number of folds: 20\n",
      "Best parameters: {'p': 1, 'n_neighbors': 8, 'metric': 'manhattan'}\n",
      "Best score: 0.76595650896268\n",
      "acc: 0.8333333333333334\n",
      "\n",
      "Number of folds: 22\n",
      "Best parameters: {'p': 1, 'n_neighbors': 8, 'metric': 'manhattan'}\n",
      "Best score: 0.7636363636363637\n",
      "acc: 0.8333333333333334\n",
      "\n",
      "Number of folds: 25\n",
      "Best parameters: {'p': 1, 'n_neighbors': 8, 'metric': 'manhattan'}\n",
      "Best score: 0.7654545454545453\n",
      "acc: 0.8333333333333334\n",
      "\n",
      "Performing cross-validation for n_neighbors = 9:\n",
      "Number of folds: 5\n",
      "Best parameters: {'p': 1, 'n_neighbors': 9, 'metric': 'euclidean'}\n",
      "Best score: 0.7503030303030304\n",
      "acc: 0.8133333333333334\n",
      "\n",
      "Number of folds: 10\n",
      "Best parameters: {'p': 1, 'n_neighbors': 9, 'metric': 'chebyshev'}\n",
      "Best score: 0.7563636363636363\n",
      "acc: 0.8187878787878788\n",
      "\n",
      "Number of folds: 15\n",
      "Best parameters: {'p': 1, 'n_neighbors': 9, 'metric': 'chebyshev'}\n",
      "Best score: 0.76\n",
      "acc: 0.8187878787878788\n",
      "\n",
      "Number of folds: 20\n",
      "Best parameters: {'p': 1, 'n_neighbors': 9, 'metric': 'manhattan'}\n",
      "Best score: 0.7623640905083751\n",
      "acc: 0.8254545454545454\n",
      "\n",
      "Number of folds: 22\n",
      "Best parameters: {'p': 1, 'n_neighbors': 9, 'metric': 'manhattan'}\n",
      "Best score: 0.7612121212121212\n",
      "acc: 0.8254545454545454\n",
      "\n",
      "Number of folds: 25\n",
      "Best parameters: {'p': 1, 'n_neighbors': 9, 'metric': 'manhattan'}\n",
      "Best score: 0.7648484848484849\n",
      "acc: 0.8254545454545454\n",
      "\n",
      "Performing cross-validation for n_neighbors = 10:\n",
      "Number of folds: 5\n",
      "Best parameters: {'p': 1, 'n_neighbors': 10, 'metric': 'euclidean'}\n",
      "Best score: 0.7557575757575757\n",
      "acc: 0.8133333333333334\n",
      "\n",
      "Number of folds: 10\n",
      "Best parameters: {'p': 1, 'n_neighbors': 10, 'metric': 'chebyshev'}\n",
      "Best score: 0.7606060606060605\n",
      "acc: 0.8084848484848485\n",
      "\n",
      "Number of folds: 15\n",
      "Best parameters: {'p': 1, 'n_neighbors': 10, 'metric': 'manhattan'}\n",
      "Best score: 0.7593939393939394\n",
      "acc: 0.813939393939394\n",
      "\n",
      "Number of folds: 20\n",
      "Best parameters: {'p': 1, 'n_neighbors': 10, 'metric': 'manhattan'}\n",
      "Best score: 0.7641566265060241\n",
      "acc: 0.813939393939394\n",
      "\n",
      "Number of folds: 22\n",
      "Best parameters: {'p': 1, 'n_neighbors': 10, 'metric': 'manhattan'}\n",
      "Best score: 0.7606060606060605\n",
      "acc: 0.813939393939394\n",
      "\n",
      "Number of folds: 25\n",
      "Best parameters: {'p': 1, 'n_neighbors': 10, 'metric': 'manhattan'}\n",
      "Best score: 0.7624242424242424\n",
      "acc: 0.813939393939394\n",
      "\n",
      "Performing cross-validation for n_neighbors = 11:\n",
      "Number of folds: 5\n",
      "Best parameters: {'p': 1, 'n_neighbors': 11, 'metric': 'manhattan'}\n",
      "Best score: 0.7569696969696971\n",
      "acc: 0.816969696969697\n",
      "\n",
      "Number of folds: 10\n",
      "Best parameters: {'p': 1, 'n_neighbors': 11, 'metric': 'manhattan'}\n",
      "Best score: 0.7612121212121212\n",
      "acc: 0.816969696969697\n",
      "\n",
      "Number of folds: 15\n",
      "Best parameters: {'p': 1, 'n_neighbors': 11, 'metric': 'manhattan'}\n",
      "Best score: 0.7593939393939393\n",
      "acc: 0.816969696969697\n",
      "\n",
      "Number of folds: 20\n",
      "Best parameters: {'p': 1, 'n_neighbors': 11, 'metric': 'manhattan'}\n",
      "Best score: 0.762944460769909\n",
      "acc: 0.816969696969697\n",
      "\n",
      "Number of folds: 22\n",
      "Best parameters: {'p': 1, 'n_neighbors': 11, 'metric': 'manhattan'}\n",
      "Best score: 0.7618181818181817\n",
      "acc: 0.816969696969697\n",
      "\n",
      "Number of folds: 25\n",
      "Best parameters: {'p': 1, 'n_neighbors': 11, 'metric': 'manhattan'}\n",
      "Best score: 0.7642424242424244\n",
      "acc: 0.816969696969697\n",
      "\n",
      "Performing cross-validation for n_neighbors = 12:\n",
      "Number of folds: 5\n",
      "Best parameters: {'p': 1, 'n_neighbors': 12, 'metric': 'manhattan'}\n",
      "Best score: 0.76\n",
      "acc: 0.8145454545454546\n",
      "\n",
      "Number of folds: 10\n",
      "Best parameters: {'p': 1, 'n_neighbors': 12, 'metric': 'euclidean'}\n",
      "Best score: 0.7618181818181817\n",
      "acc: 0.796969696969697\n",
      "\n",
      "Number of folds: 15\n",
      "Best parameters: {'p': 1, 'n_neighbors': 12, 'metric': 'euclidean'}\n",
      "Best score: 0.7666666666666667\n",
      "acc: 0.796969696969697\n",
      "\n",
      "Number of folds: 20\n",
      "Best parameters: {'p': 1, 'n_neighbors': 12, 'metric': 'euclidean'}\n",
      "Best score: 0.7647663826035851\n",
      "acc: 0.796969696969697\n",
      "\n",
      "Number of folds: 22\n",
      "Best parameters: {'p': 1, 'n_neighbors': 12, 'metric': 'manhattan'}\n",
      "Best score: 0.7624242424242424\n",
      "acc: 0.8145454545454546\n",
      "\n",
      "Number of folds: 25\n",
      "Best parameters: {'p': 1, 'n_neighbors': 12, 'metric': 'euclidean'}\n",
      "Best score: 0.766060606060606\n",
      "acc: 0.796969696969697\n",
      "\n",
      "Performing cross-validation for n_neighbors = 13:\n",
      "Number of folds: 5\n",
      "Best parameters: {'p': 1, 'n_neighbors': 13, 'metric': 'manhattan'}\n",
      "Best score: 0.756969696969697\n",
      "acc: 0.8084848484848485\n",
      "\n",
      "Number of folds: 10\n",
      "Best parameters: {'p': 1, 'n_neighbors': 13, 'metric': 'manhattan'}\n",
      "Best score: 0.761212121212121\n",
      "acc: 0.8084848484848485\n",
      "\n",
      "Number of folds: 15\n",
      "Best parameters: {'p': 1, 'n_neighbors': 13, 'metric': 'manhattan'}\n",
      "Best score: 0.7624242424242424\n",
      "acc: 0.8084848484848485\n",
      "\n",
      "Number of folds: 20\n",
      "Best parameters: {'p': 1, 'n_neighbors': 13, 'metric': 'manhattan'}\n",
      "Best score: 0.7587202468410227\n",
      "acc: 0.8084848484848485\n",
      "\n",
      "Number of folds: 22\n",
      "Best parameters: {'p': 1, 'n_neighbors': 13, 'metric': 'manhattan'}\n",
      "Best score: 0.7545454545454546\n",
      "acc: 0.8084848484848485\n",
      "\n",
      "Number of folds: 25\n",
      "Best parameters: {'p': 1, 'n_neighbors': 13, 'metric': 'euclidean'}\n",
      "Best score: 0.7618181818181818\n",
      "acc: 0.7987878787878788\n",
      "\n",
      "Performing cross-validation for n_neighbors = 14:\n",
      "Number of folds: 5\n",
      "Best parameters: {'p': 1, 'n_neighbors': 14, 'metric': 'manhattan'}\n",
      "Best score: 0.7624242424242424\n",
      "acc: 0.8048484848484848\n",
      "\n",
      "Number of folds: 10\n",
      "Best parameters: {'p': 1, 'n_neighbors': 14, 'metric': 'manhattan'}\n",
      "Best score: 0.7648484848484849\n",
      "acc: 0.8048484848484848\n",
      "\n",
      "Number of folds: 15\n",
      "Best parameters: {'p': 1, 'n_neighbors': 14, 'metric': 'euclidean'}\n",
      "Best score: 0.7636363636363637\n",
      "acc: 0.7945454545454546\n",
      "\n",
      "Number of folds: 20\n",
      "Best parameters: {'p': 1, 'n_neighbors': 14, 'metric': 'manhattan'}\n",
      "Best score: 0.7647737290625919\n",
      "acc: 0.8048484848484848\n",
      "\n",
      "Number of folds: 22\n",
      "Best parameters: {'p': 1, 'n_neighbors': 14, 'metric': 'euclidean'}\n",
      "Best score: 0.7600000000000001\n",
      "acc: 0.7945454545454546\n",
      "\n",
      "Number of folds: 25\n",
      "Best parameters: {'p': 1, 'n_neighbors': 14, 'metric': 'euclidean'}\n",
      "Best score: 0.7630303030303032\n",
      "acc: 0.7945454545454546\n",
      "\n",
      "Performing cross-validation for n_neighbors = 15:\n",
      "Number of folds: 5\n",
      "Best parameters: {'p': 1, 'n_neighbors': 15, 'metric': 'manhattan'}\n",
      "Best score: 0.7581818181818182\n",
      "acc: 0.7963636363636364\n",
      "\n",
      "Number of folds: 10\n",
      "Best parameters: {'p': 1, 'n_neighbors': 15, 'metric': 'euclidean'}\n",
      "Best score: 0.7527272727272727\n",
      "acc: 0.8\n",
      "\n",
      "Number of folds: 15\n",
      "Best parameters: {'p': 1, 'n_neighbors': 15, 'metric': 'manhattan'}\n",
      "Best score: 0.756969696969697\n",
      "acc: 0.7963636363636364\n",
      "\n",
      "Number of folds: 20\n",
      "Best parameters: {'p': 1, 'n_neighbors': 15, 'metric': 'manhattan'}\n",
      "Best score: 0.7580957978254481\n",
      "acc: 0.7963636363636364\n",
      "\n",
      "Number of folds: 22\n",
      "Best parameters: {'p': 1, 'n_neighbors': 15, 'metric': 'manhattan'}\n",
      "Best score: 0.7618181818181817\n",
      "acc: 0.7963636363636364\n",
      "\n",
      "Number of folds: 25\n",
      "Best parameters: {'p': 1, 'n_neighbors': 15, 'metric': 'manhattan'}\n",
      "Best score: 0.7593939393939394\n",
      "acc: 0.7963636363636364\n",
      "\n",
      "Performing cross-validation for n_neighbors = 16:\n",
      "Number of folds: 5\n",
      "Best parameters: {'p': 1, 'n_neighbors': 16, 'metric': 'manhattan'}\n",
      "Best score: 0.7624242424242424\n",
      "acc: 0.7987878787878788\n",
      "\n",
      "Number of folds: 10\n",
      "Best parameters: {'p': 1, 'n_neighbors': 16, 'metric': 'euclidean'}\n",
      "Best score: 0.763030303030303\n",
      "acc: 0.7975757575757576\n",
      "\n",
      "Number of folds: 15\n",
      "Best parameters: {'p': 1, 'n_neighbors': 16, 'metric': 'euclidean'}\n",
      "Best score: 0.7636363636363637\n",
      "acc: 0.7975757575757576\n",
      "\n",
      "Number of folds: 20\n",
      "Best parameters: {'p': 1, 'n_neighbors': 16, 'metric': 'manhattan'}\n",
      "Best score: 0.7647663826035851\n",
      "acc: 0.7987878787878788\n",
      "\n",
      "Number of folds: 22\n",
      "Best parameters: {'p': 1, 'n_neighbors': 16, 'metric': 'manhattan'}\n",
      "Best score: 0.7648484848484849\n",
      "acc: 0.7987878787878788\n",
      "\n",
      "Number of folds: 25\n",
      "Best parameters: {'p': 1, 'n_neighbors': 16, 'metric': 'manhattan'}\n",
      "Best score: 0.7666666666666666\n",
      "acc: 0.7987878787878788\n",
      "\n",
      "Performing cross-validation for n_neighbors = 17:\n",
      "Number of folds: 5\n",
      "Best parameters: {'p': 1, 'n_neighbors': 17, 'metric': 'chebyshev'}\n",
      "Best score: 0.7575757575757576\n",
      "acc: 0.7921212121212121\n",
      "\n",
      "Number of folds: 10\n",
      "Best parameters: {'p': 1, 'n_neighbors': 17, 'metric': 'manhattan'}\n",
      "Best score: 0.7563636363636363\n",
      "acc: 0.7993939393939394\n",
      "\n",
      "Number of folds: 15\n",
      "Best parameters: {'p': 1, 'n_neighbors': 17, 'metric': 'manhattan'}\n",
      "Best score: 0.7581818181818182\n",
      "acc: 0.7993939393939394\n",
      "\n",
      "Number of folds: 20\n",
      "Best parameters: {'p': 1, 'n_neighbors': 17, 'metric': 'euclidean'}\n",
      "Best score: 0.7593373493975905\n",
      "acc: 0.7903030303030303\n",
      "\n",
      "Number of folds: 22\n",
      "Best parameters: {'p': 1, 'n_neighbors': 17, 'metric': 'manhattan'}\n",
      "Best score: 0.756969696969697\n",
      "acc: 0.7993939393939394\n",
      "\n",
      "Number of folds: 25\n",
      "Best parameters: {'p': 1, 'n_neighbors': 17, 'metric': 'euclidean'}\n",
      "Best score: 0.7612121212121212\n",
      "acc: 0.7903030303030303\n",
      "\n",
      "Performing cross-validation for n_neighbors = 18:\n",
      "Number of folds: 5\n",
      "Best parameters: {'p': 1, 'n_neighbors': 18, 'metric': 'manhattan'}\n",
      "Best score: 0.7587878787878788\n",
      "acc: 0.8012121212121213\n",
      "\n",
      "Number of folds: 10\n",
      "Best parameters: {'p': 1, 'n_neighbors': 18, 'metric': 'euclidean'}\n",
      "Best score: 0.756969696969697\n",
      "acc: 0.7933333333333333\n",
      "\n",
      "Number of folds: 15\n",
      "Best parameters: {'p': 1, 'n_neighbors': 18, 'metric': 'manhattan'}\n",
      "Best score: 0.7612121212121212\n",
      "acc: 0.8012121212121213\n",
      "\n",
      "Number of folds: 20\n",
      "Best parameters: {'p': 1, 'n_neighbors': 18, 'metric': 'euclidean'}\n",
      "Best score: 0.7618204525418748\n",
      "acc: 0.7933333333333333\n",
      "\n",
      "Number of folds: 22\n",
      "Best parameters: {'p': 1, 'n_neighbors': 18, 'metric': 'manhattan'}\n",
      "Best score: 0.7606060606060606\n",
      "acc: 0.8012121212121213\n",
      "\n",
      "Number of folds: 25\n",
      "Best parameters: {'p': 1, 'n_neighbors': 18, 'metric': 'euclidean'}\n",
      "Best score: 0.7654545454545455\n",
      "acc: 0.7933333333333333\n",
      "\n",
      "Performing cross-validation for n_neighbors = 19:\n",
      "Number of folds: 5\n",
      "Best parameters: {'p': 1, 'n_neighbors': 19, 'metric': 'manhattan'}\n",
      "Best score: 0.7533333333333333\n",
      "acc: 0.7951515151515152\n",
      "\n",
      "Number of folds: 10\n",
      "Best parameters: {'p': 1, 'n_neighbors': 19, 'metric': 'manhattan'}\n",
      "Best score: 0.7563636363636363\n",
      "acc: 0.7951515151515152\n",
      "\n",
      "Number of folds: 15\n",
      "Best parameters: {'p': 1, 'n_neighbors': 19, 'metric': 'manhattan'}\n",
      "Best score: 0.7581818181818182\n",
      "acc: 0.7951515151515152\n",
      "\n",
      "Number of folds: 20\n",
      "Best parameters: {'p': 1, 'n_neighbors': 19, 'metric': 'manhattan'}\n",
      "Best score: 0.7587790185130766\n",
      "acc: 0.7951515151515152\n",
      "\n",
      "Number of folds: 22\n",
      "Best parameters: {'p': 1, 'n_neighbors': 19, 'metric': 'manhattan'}\n",
      "Best score: 0.7593939393939394\n",
      "acc: 0.7951515151515152\n",
      "\n",
      "Number of folds: 25\n",
      "Best parameters: {'p': 1, 'n_neighbors': 19, 'metric': 'manhattan'}\n",
      "Best score: 0.7648484848484849\n",
      "acc: 0.7951515151515152\n",
      "\n",
      "Performing cross-validation for n_neighbors = 20:\n",
      "Number of folds: 5\n",
      "Best parameters: {'p': 1, 'n_neighbors': 20, 'metric': 'manhattan'}\n",
      "Best score: 0.7606060606060606\n",
      "acc: 0.7927272727272727\n",
      "\n",
      "Number of folds: 10\n",
      "Best parameters: {'p': 1, 'n_neighbors': 20, 'metric': 'manhattan'}\n",
      "Best score: 0.76\n",
      "acc: 0.7927272727272727\n",
      "\n",
      "Number of folds: 15\n",
      "Best parameters: {'p': 1, 'n_neighbors': 20, 'metric': 'manhattan'}\n",
      "Best score: 0.7600000000000001\n",
      "acc: 0.7927272727272727\n",
      "\n",
      "Number of folds: 20\n",
      "Best parameters: {'p': 1, 'n_neighbors': 20, 'metric': 'manhattan'}\n",
      "Best score: 0.7623934763444019\n",
      "acc: 0.7927272727272727\n",
      "\n",
      "Number of folds: 22\n",
      "Best parameters: {'p': 1, 'n_neighbors': 20, 'metric': 'manhattan'}\n",
      "Best score: 0.7606060606060605\n",
      "acc: 0.7927272727272727\n",
      "\n",
      "Number of folds: 25\n",
      "Best parameters: {'p': 1, 'n_neighbors': 20, 'metric': 'manhattan'}\n",
      "Best score: 0.7618181818181818\n",
      "acc: 0.7927272727272727\n",
      "\n",
      "Performing cross-validation for n_neighbors = 21:\n",
      "Number of folds: 5\n",
      "Best parameters: {'p': 1, 'n_neighbors': 21, 'metric': 'manhattan'}\n",
      "Best score: 0.7533333333333332\n",
      "acc: 0.7915151515151515\n",
      "\n",
      "Number of folds: 10\n",
      "Best parameters: {'p': 1, 'n_neighbors': 21, 'metric': 'euclidean'}\n",
      "Best score: 0.7551515151515151\n",
      "acc: 0.7909090909090909\n",
      "\n",
      "Number of folds: 15\n",
      "Best parameters: {'p': 1, 'n_neighbors': 21, 'metric': 'manhattan'}\n",
      "Best score: 0.76\n",
      "acc: 0.7915151515151515\n",
      "\n",
      "Number of folds: 20\n",
      "Best parameters: {'p': 1, 'n_neighbors': 21, 'metric': 'manhattan'}\n",
      "Best score: 0.7605935938877461\n",
      "acc: 0.7915151515151515\n",
      "\n",
      "Number of folds: 22\n",
      "Best parameters: {'p': 1, 'n_neighbors': 21, 'metric': 'euclidean'}\n",
      "Best score: 0.7593939393939394\n",
      "acc: 0.7909090909090909\n",
      "\n",
      "Number of folds: 25\n",
      "Best parameters: {'p': 1, 'n_neighbors': 21, 'metric': 'euclidean'}\n",
      "Best score: 0.76\n",
      "acc: 0.7909090909090909\n",
      "\n",
      "Performing cross-validation for n_neighbors = 22:\n",
      "Number of folds: 5\n",
      "Best parameters: {'p': 1, 'n_neighbors': 22, 'metric': 'euclidean'}\n",
      "Best score: 0.7515151515151516\n",
      "acc: 0.7909090909090909\n",
      "\n",
      "Number of folds: 10\n",
      "Best parameters: {'p': 1, 'n_neighbors': 22, 'metric': 'manhattan'}\n",
      "Best score: 0.7557575757575757\n",
      "acc: 0.7884848484848485\n",
      "\n",
      "Number of folds: 15\n",
      "Best parameters: {'p': 1, 'n_neighbors': 22, 'metric': 'manhattan'}\n",
      "Best score: 0.7581818181818181\n",
      "acc: 0.7884848484848485\n",
      "\n",
      "Number of folds: 20\n",
      "Best parameters: {'p': 1, 'n_neighbors': 22, 'metric': 'euclidean'}\n",
      "Best score: 0.7587716720540699\n",
      "acc: 0.7909090909090909\n",
      "\n",
      "Number of folds: 22\n",
      "Best parameters: {'p': 1, 'n_neighbors': 22, 'metric': 'manhattan'}\n",
      "Best score: 0.7599999999999998\n",
      "acc: 0.7884848484848485\n",
      "\n",
      "Number of folds: 25\n",
      "Best parameters: {'p': 1, 'n_neighbors': 22, 'metric': 'manhattan'}\n",
      "Best score: 0.7606060606060606\n",
      "acc: 0.7884848484848485\n",
      "\n"
     ]
    }
   ],
   "source": [
    "from sklearn.neighbors import KNeighborsClassifier\n",
    "from sklearn.model_selection import RandomizedSearchCV, KFold\n",
    "import numpy as np\n",
    "\n",
    "n_neighbors_range = np.arange(2, 23)\n",
    "\n",
    "param_grid_knn = {\n",
    "    'p': [1, 2],\n",
    "    'metric': ['euclidean', 'manhattan', 'chebyshev', 'minkowski']\n",
    "}\n",
    "\n",
    "num_folds_list = [5, 10, 15, 20, 22, 25]\n",
    "\n",
    "best_knn_model = None\n",
    "best_knn_score = float('-inf')\n",
    "\n",
    "for n_neighbors in n_neighbors_range:\n",
    "    print(f\"Performing cross-validation for n_neighbors = {n_neighbors}:\")\n",
    "    \n",
    "    param_grid_knn['n_neighbors'] = [n_neighbors]\n",
    "    \n",
    "    for num_folds in num_folds_list:\n",
    "        print(f\"Number of folds: {num_folds}\")\n",
    "        \n",
    "        kf = KFold(n_splits=num_folds, shuffle=True, random_state=116) \n",
    "\n",
    "        knn = KNeighborsClassifier()\n",
    "\n",
    "        knn_cv = RandomizedSearchCV(knn, param_grid_knn, cv=kf, n_iter=10, random_state=116)\n",
    "        knn_cv.fit(X_train_scaled, y_train)\n",
    "        knn_acc = knn_cv.score(X_train_scaled, y_train)\n",
    "\n",
    "        print(\"Best parameters:\", knn_cv.best_params_)\n",
    "        print(\"Best score:\", knn_cv.best_score_)\n",
    "        print(\"acc:\",knn_acc)\n",
    "        \n",
    "        if knn_cv.best_score_ > best_knn_score:\n",
    "            best_knn_model = knn_cv.best_estimator_\n",
    "            best_knn_score = knn_cv.best_score_\n",
    "\n",
    "        print()\n"
   ]
  },
  {
   "cell_type": "code",
   "execution_count": 11,
   "id": "7dcd05bc",
   "metadata": {
    "execution": {
     "iopub.execute_input": "2024-05-13T03:54:14.247431Z",
     "iopub.status.busy": "2024-05-13T03:54:14.246779Z",
     "iopub.status.idle": "2024-05-13T03:54:14.387120Z",
     "shell.execute_reply": "2024-05-13T03:54:14.385941Z"
    },
    "papermill": {
     "duration": 0.172577,
     "end_time": "2024-05-13T03:54:14.389344",
     "exception": false,
     "start_time": "2024-05-13T03:54:14.216767",
     "status": "completed"
    },
    "tags": []
   },
   "outputs": [
    {
     "name": "stdout",
     "output_type": "stream",
     "text": [
      "KNeighborsClassifier(metric='euclidean', n_neighbors=6, p=1)\n",
      "0.8290909090909091\n",
      "0.7781818181818181\n",
      "74.87\n",
      "76.21\n",
      "75.73\n"
     ]
    }
   ],
   "source": [
    "from sklearn.metrics import precision_score, recall_score, f1_score, accuracy_score\n",
    "\n",
    "train_score_knn = best_knn_model.score(X_train_scaled,y_train)\n",
    "test_score_knn = best_knn_score\n",
    "\n",
    "y_pred = best_knn_model.predict(X_test_scaled)\n",
    "\n",
    "f1 = np.round(f1_score(y_test, y_pred, average='macro')*100, 2)\n",
    "recall=np.round(recall_score(y_test, y_pred, average='macro')*100, 2)\n",
    "precision=np.round(precision_score(y_test, y_pred, average='macro')*100, 2)\n",
    "\n",
    "train_accuracies.append(train_score_knn)\n",
    "test_accuracies.append(test_score_knn)\n",
    "f1_scores.append(f1)\n",
    "recall_scores.append(recall)\n",
    "precision_scores.append(precision)\n",
    "\n",
    "print(best_knn_model)\n",
    "print(train_score_knn)\n",
    "print(test_score_knn)\n",
    "print(f1)\n",
    "print(recall)\n",
    "print(precision)"
   ]
  },
  {
   "cell_type": "code",
   "execution_count": 12,
   "id": "9bb22604",
   "metadata": {
    "execution": {
     "iopub.execute_input": "2024-05-13T03:54:14.494813Z",
     "iopub.status.busy": "2024-05-13T03:54:14.494110Z",
     "iopub.status.idle": "2024-05-13T03:54:14.499837Z",
     "shell.execute_reply": "2024-05-13T03:54:14.499007Z"
    },
    "papermill": {
     "duration": 0.083264,
     "end_time": "2024-05-13T03:54:14.501795",
     "exception": false,
     "start_time": "2024-05-13T03:54:14.418531",
     "status": "completed"
    },
    "tags": []
   },
   "outputs": [
    {
     "data": {
      "text/plain": [
       "'import os\\nimport shutil\\n\\nfiles_in_working_dir = os.listdir(\\'/kaggle/working/\\')\\nfor item in files_in_working_dir:\\n    if os.path.isfile(item):\\n        os.remove(item)\\n    else:\\n        shutil.rmtree(item)\\nprint(\"Contents of /kaggle/working/ have been cleared.\")'"
      ]
     },
     "execution_count": 12,
     "metadata": {},
     "output_type": "execute_result"
    }
   ],
   "source": [
    "\"\"\"import os\n",
    "import shutil\n",
    "\n",
    "files_in_working_dir = os.listdir('/kaggle/working/')\n",
    "for item in files_in_working_dir:\n",
    "    if os.path.isfile(item):\n",
    "        os.remove(item)\n",
    "    else:\n",
    "        shutil.rmtree(item)\n",
    "print(\"Contents of /kaggle/working/ have been cleared.\")\"\"\""
   ]
  },
  {
   "cell_type": "code",
   "execution_count": 13,
   "id": "e3106fa4",
   "metadata": {
    "execution": {
     "iopub.execute_input": "2024-05-13T03:54:14.562355Z",
     "iopub.status.busy": "2024-05-13T03:54:14.561729Z",
     "iopub.status.idle": "2024-05-13T03:54:14.570478Z",
     "shell.execute_reply": "2024-05-13T03:54:14.569761Z"
    },
    "papermill": {
     "duration": 0.041532,
     "end_time": "2024-05-13T03:54:14.572314",
     "exception": false,
     "start_time": "2024-05-13T03:54:14.530782",
     "status": "completed"
    },
    "tags": []
   },
   "outputs": [],
   "source": [
    "import joblib\n",
    "\n",
    "\n",
    "joblib.dump(best_knn_model, 'best_knn_model.pkl')\n",
    "knn_model = joblib.load('best_knn_model.pkl')\n",
    "\n",
    "#kf = KFold(n_splits=15, shuffle=True, random_state=116) \n",
    "#knn = knn_model\n",
    "\n",
    "#scores = cross_val_score(knn, X_train_scaled, y_train, cv=kf)\n",
    "#print(np.mean(scores))"
   ]
  },
  {
   "cell_type": "markdown",
   "id": "33e2fd93",
   "metadata": {
    "papermill": {
     "duration": 0.029142,
     "end_time": "2024-05-13T03:54:14.631147",
     "exception": false,
     "start_time": "2024-05-13T03:54:14.602005",
     "status": "completed"
    },
    "tags": []
   },
   "source": [
    "### Logreg OVR"
   ]
  },
  {
   "cell_type": "code",
   "execution_count": 14,
   "id": "0d608fc2",
   "metadata": {
    "execution": {
     "iopub.execute_input": "2024-05-13T03:54:14.690868Z",
     "iopub.status.busy": "2024-05-13T03:54:14.690522Z",
     "iopub.status.idle": "2024-05-13T04:01:23.483179Z",
     "shell.execute_reply": "2024-05-13T04:01:23.482186Z"
    },
    "papermill": {
     "duration": 428.854939,
     "end_time": "2024-05-13T04:01:23.515207",
     "exception": false,
     "start_time": "2024-05-13T03:54:14.660268",
     "status": "completed"
    },
    "tags": []
   },
   "outputs": [
    {
     "name": "stdout",
     "output_type": "stream",
     "text": [
      "Performing cross-validation with 5 folds:\n",
      "Best parameters (OvR): {'solver': 'liblinear', 'penalty': 'l1', 'max_iter': 400, 'C': 10.0}\n",
      "Best score (OvR): 0.6381818181818183\n",
      "Accuracy (OvR): 0.6812121212121212\n",
      "\n",
      "Performing cross-validation with 10 folds:\n",
      "Best parameters (OvR): {'solver': 'saga', 'penalty': 'l2', 'max_iter': 200, 'C': 10.0}\n",
      "Best score (OvR): 0.6496969696969697\n",
      "Accuracy (OvR): 0.6775757575757576\n",
      "\n",
      "Performing cross-validation with 15 folds:\n",
      "Best parameters (OvR): {'solver': 'liblinear', 'penalty': 'l1', 'max_iter': 500, 'C': 1000.0}\n",
      "Best score (OvR): 0.6484848484848486\n",
      "Accuracy (OvR): 0.6787878787878788\n",
      "\n",
      "Performing cross-validation with 20 folds:\n",
      "Best parameters (OvR): {'solver': 'liblinear', 'penalty': 'l1', 'max_iter': 500, 'C': 1000.0}\n",
      "Best score (OvR): 0.6437775492212753\n",
      "Accuracy (OvR): 0.6787878787878788\n",
      "\n",
      "Performing cross-validation with 22 folds:\n",
      "Best parameters (OvR): {'solver': 'liblinear', 'penalty': 'l2', 'max_iter': 200, 'C': 215.44346900318823}\n",
      "Best score (OvR): 0.6424242424242425\n",
      "Accuracy (OvR): 0.6787878787878788\n",
      "\n",
      "Performing cross-validation with 25 folds:\n",
      "Best parameters (OvR): {'solver': 'liblinear', 'penalty': 'l1', 'max_iter': 400, 'C': 10.0}\n",
      "Best score (OvR): 0.6503030303030303\n",
      "Accuracy (OvR): 0.6812121212121212\n",
      "\n"
     ]
    }
   ],
   "source": [
    "from sklearn.model_selection import RandomizedSearchCV, KFold\n",
    "from sklearn.linear_model import LogisticRegression\n",
    "import numpy as np\n",
    "\n",
    "param_grid_logreg = {\n",
    "    'penalty': ['l1', 'l2'],\n",
    "    'C': np.logspace(-3, 3, 10),\n",
    "    'solver': ['liblinear', 'saga'],\n",
    "    'max_iter': [100, 200, 300, 400, 500]\n",
    "}\n",
    "\n",
    "num_folds_list = [5, 10, 15, 20, 22, 25]\n",
    "\n",
    "best_logreg_model_ovr = None\n",
    "best_logreg_score_ovr = float('-inf')\n",
    "\n",
    "for num_folds in num_folds_list:\n",
    "    print(f\"Performing cross-validation with {num_folds} folds:\")\n",
    "    \n",
    "    kf = KFold(n_splits=num_folds, shuffle=True, random_state=116) \n",
    "\n",
    "    logreg_ovr = LogisticRegression(multi_class='ovr', random_state=116)\n",
    "\n",
    "    logreg_cv_ovr = RandomizedSearchCV(logreg_ovr, param_grid_logreg, cv=kf, n_iter=30, random_state=116)\n",
    "    logreg_cv_ovr.fit(X_train_scaled, y_train)\n",
    "    logreg_acc_ovr = logreg_cv_ovr.score(X_train_scaled, y_train)\n",
    "\n",
    "    print(\"Best parameters (OvR):\", logreg_cv_ovr.best_params_)\n",
    "    print(\"Best score (OvR):\", logreg_cv_ovr.best_score_)\n",
    "    print(\"Accuracy (OvR):\", logreg_acc_ovr)\n",
    "        \n",
    "    if logreg_cv_ovr.best_score_ > best_logreg_score_ovr:\n",
    "        best_logreg_model_ovr = logreg_cv_ovr.best_estimator_\n",
    "        best_logreg_score_ovr = logreg_cv_ovr.best_score_\n",
    "\n",
    "    print()"
   ]
  },
  {
   "cell_type": "code",
   "execution_count": 15,
   "id": "38718a8d",
   "metadata": {
    "execution": {
     "iopub.execute_input": "2024-05-13T04:01:23.575598Z",
     "iopub.status.busy": "2024-05-13T04:01:23.574818Z",
     "iopub.status.idle": "2024-05-13T04:01:23.590261Z",
     "shell.execute_reply": "2024-05-13T04:01:23.589299Z"
    },
    "papermill": {
     "duration": 0.047655,
     "end_time": "2024-05-13T04:01:23.592163",
     "exception": false,
     "start_time": "2024-05-13T04:01:23.544508",
     "status": "completed"
    },
    "tags": []
   },
   "outputs": [
    {
     "name": "stdout",
     "output_type": "stream",
     "text": [
      "LogisticRegression(C=10.0, max_iter=400, multi_class='ovr', penalty='l1',\n",
      "                   random_state=116, solver='liblinear')\n",
      "0.6812121212121212\n",
      "0.6503030303030303\n",
      "60.82\n",
      "62.08\n",
      "63.11\n"
     ]
    }
   ],
   "source": [
    "from sklearn.metrics import precision_score, recall_score, f1_score, accuracy_score\n",
    "\n",
    "train_score_logreg = best_logreg_model_ovr.score(X_train_scaled,y_train)\n",
    "test_score_logreg = best_logreg_score_ovr\n",
    "\n",
    "y_pred = best_logreg_model_ovr.predict(X_test_scaled)\n",
    "\n",
    "f1 = np.round(f1_score(y_test, y_pred, average='macro')*100, 2)\n",
    "recall=np.round(recall_score(y_test, y_pred, average='macro')*100, 2)\n",
    "precision=np.round(precision_score(y_test, y_pred, average='macro')*100, 2)\n",
    "\n",
    "train_accuracies.append(train_score_logreg)\n",
    "test_accuracies.append(test_score_logreg)\n",
    "f1_scores.append(f1)\n",
    "recall_scores.append(recall)\n",
    "precision_scores.append(precision)\n",
    "\n",
    "print(best_logreg_model_ovr)\n",
    "print(train_score_logreg)\n",
    "print(test_score_logreg)\n",
    "print(f1)\n",
    "print(recall)\n",
    "print(precision)"
   ]
  },
  {
   "cell_type": "markdown",
   "id": "7c0ec8a2",
   "metadata": {
    "papermill": {
     "duration": 0.029025,
     "end_time": "2024-05-13T04:01:23.652364",
     "exception": false,
     "start_time": "2024-05-13T04:01:23.623339",
     "status": "completed"
    },
    "tags": []
   },
   "source": [
    "### Logreg Multinomial"
   ]
  },
  {
   "cell_type": "code",
   "execution_count": 16,
   "id": "870f3b40",
   "metadata": {
    "execution": {
     "iopub.execute_input": "2024-05-13T04:01:23.712776Z",
     "iopub.status.busy": "2024-05-13T04:01:23.712430Z",
     "iopub.status.idle": "2024-05-13T04:07:21.891031Z",
     "shell.execute_reply": "2024-05-13T04:07:21.890067Z"
    },
    "papermill": {
     "duration": 358.242095,
     "end_time": "2024-05-13T04:07:21.923683",
     "exception": false,
     "start_time": "2024-05-13T04:01:23.681588",
     "status": "completed"
    },
    "tags": []
   },
   "outputs": [
    {
     "name": "stdout",
     "output_type": "stream",
     "text": [
      "Performing cross-validation with 5 folds:\n",
      "Best parameters: {'solver': 'saga', 'penalty': 'l1', 'max_iter': 400, 'C': 10.0}\n",
      "Best score: 0.7218181818181818\n",
      "acc: 0.743030303030303\n",
      "\n",
      "Performing cross-validation with 10 folds:\n",
      "Best parameters: {'solver': 'saga', 'penalty': 'l2', 'max_iter': 200, 'C': 10.0}\n",
      "Best score: 0.72\n",
      "acc: 0.7418181818181818\n",
      "\n",
      "Performing cross-validation with 15 folds:\n",
      "Best parameters: {'solver': 'saga', 'penalty': 'l2', 'max_iter': 200, 'C': 10.0}\n",
      "Best score: 0.7230303030303029\n",
      "acc: 0.7418181818181818\n",
      "\n",
      "Performing cross-validation with 20 folds:\n",
      "Best parameters: {'solver': 'saga', 'penalty': 'l1', 'max_iter': 400, 'C': 10.0}\n",
      "Best score: 0.7188363208933294\n",
      "acc: 0.743030303030303\n",
      "\n",
      "Performing cross-validation with 22 folds:\n",
      "Best parameters: {'solver': 'saga', 'penalty': 'l1', 'max_iter': 400, 'C': 10.0}\n",
      "Best score: 0.72\n",
      "acc: 0.743030303030303\n",
      "\n",
      "Performing cross-validation with 25 folds:\n",
      "Best parameters: {'solver': 'saga', 'penalty': 'l1', 'max_iter': 400, 'C': 46.41588833612773}\n",
      "Best score: 0.7212121212121212\n",
      "acc: 0.7436363636363637\n",
      "\n"
     ]
    }
   ],
   "source": [
    "from sklearn.model_selection import RandomizedSearchCV, KFold\n",
    "from sklearn.linear_model import LogisticRegression\n",
    "import numpy as np\n",
    "\n",
    "param_grid_logreg = {\n",
    "    'penalty': ['l1', 'l2'],\n",
    "    'C': np.logspace(-3, 3, 10),\n",
    "    'solver': ['liblinear', 'saga'],\n",
    "    'max_iter': [100, 200, 300, 400, 500]\n",
    "}\n",
    "\n",
    "num_folds_list = [5, 10, 15, 20, 22, 25]\n",
    "\n",
    "best_logreg_model = None\n",
    "best_logreg_score = float('-inf')\n",
    "\n",
    "for num_folds in num_folds_list:\n",
    "    print(f\"Performing cross-validation with {num_folds} folds:\")\n",
    "    \n",
    "    kf = KFold(n_splits=num_folds, shuffle=True, random_state=116) \n",
    "\n",
    "    logreg = LogisticRegression(multi_class='multinomial',random_state=116)\n",
    "\n",
    "    logreg_cv = RandomizedSearchCV(logreg, param_grid_logreg, cv=kf, n_iter=30, random_state=116)\n",
    "    logreg_cv.fit(X_train_scaled, y_train)\n",
    "    logreg_acc = logreg_cv.score(X_train_scaled, y_train)\n",
    "\n",
    "    print(\"Best parameters:\", logreg_cv.best_params_)\n",
    "    print(\"Best score:\", logreg_cv.best_score_)\n",
    "    print(\"acc:\",logreg_acc)\n",
    "        \n",
    "    if logreg_cv.best_score_ > best_logreg_score:\n",
    "        best_logreg_model = logreg_cv.best_estimator_\n",
    "        best_logreg_score = logreg_cv.best_score_\n",
    "\n",
    "    print()"
   ]
  },
  {
   "cell_type": "code",
   "execution_count": 17,
   "id": "38a4671d",
   "metadata": {
    "execution": {
     "iopub.execute_input": "2024-05-13T04:07:21.984936Z",
     "iopub.status.busy": "2024-05-13T04:07:21.984621Z",
     "iopub.status.idle": "2024-05-13T04:07:21.999789Z",
     "shell.execute_reply": "2024-05-13T04:07:21.998936Z"
    },
    "papermill": {
     "duration": 0.048054,
     "end_time": "2024-05-13T04:07:22.001659",
     "exception": false,
     "start_time": "2024-05-13T04:07:21.953605",
     "status": "completed"
    },
    "tags": []
   },
   "outputs": [
    {
     "name": "stdout",
     "output_type": "stream",
     "text": [
      "LogisticRegression(C=10.0, max_iter=200, multi_class='multinomial',\n",
      "                   random_state=116, solver='saga')\n",
      "0.7418181818181818\n",
      "0.7230303030303029\n",
      "67.28\n",
      "68.07\n",
      "67.58\n"
     ]
    }
   ],
   "source": [
    "train_score_logreg = best_logreg_model.score(X_train_scaled,y_train)\n",
    "test_score_logreg = best_logreg_score\n",
    "\n",
    "y_pred = best_logreg_model.predict(X_test_scaled)\n",
    "\n",
    "f1 = np.round(f1_score(y_test, y_pred, average='macro')*100, 2)\n",
    "recall=np.round(recall_score(y_test, y_pred, average='macro')*100, 2)\n",
    "precision=np.round(precision_score(y_test, y_pred, average='macro')*100, 2)\n",
    "\n",
    "train_accuracies.append(train_score_logreg)\n",
    "test_accuracies.append(test_score_logreg)\n",
    "f1_scores.append(f1)\n",
    "recall_scores.append(recall)\n",
    "precision_scores.append(precision)\n",
    "\n",
    "print(best_logreg_model)\n",
    "print(train_score_logreg)\n",
    "print(test_score_logreg)\n",
    "print(f1)\n",
    "print(recall)\n",
    "print(precision)"
   ]
  },
  {
   "cell_type": "markdown",
   "id": "6d410aaa",
   "metadata": {
    "papermill": {
     "duration": 0.029944,
     "end_time": "2024-05-13T04:07:22.061584",
     "exception": false,
     "start_time": "2024-05-13T04:07:22.031640",
     "status": "completed"
    },
    "tags": []
   },
   "source": [
    "### DT"
   ]
  },
  {
   "cell_type": "code",
   "execution_count": 18,
   "id": "114664b4",
   "metadata": {
    "execution": {
     "iopub.execute_input": "2024-05-13T04:07:22.122631Z",
     "iopub.status.busy": "2024-05-13T04:07:22.122334Z",
     "iopub.status.idle": "2024-05-13T04:08:31.198773Z",
     "shell.execute_reply": "2024-05-13T04:08:31.197808Z"
    },
    "papermill": {
     "duration": 69.139926,
     "end_time": "2024-05-13T04:08:31.231375",
     "exception": false,
     "start_time": "2024-05-13T04:07:22.091449",
     "status": "completed"
    },
    "tags": []
   },
   "outputs": [
    {
     "name": "stdout",
     "output_type": "stream",
     "text": [
      "Performing cross-validation with 5 folds:\n",
      "Best parameters: {'splitter': 'best', 'min_samples_split': 5, 'min_samples_leaf': 1, 'max_features': None, 'max_depth': 10, 'criterion': 'gini'}\n",
      "Best score: 0.7884848484848485\n",
      "acc: 0.8781818181818182\n",
      "\n",
      "Performing cross-validation with 10 folds:\n",
      "Best parameters: {'splitter': 'best', 'min_samples_split': 5, 'min_samples_leaf': 1, 'max_features': None, 'max_depth': 10, 'criterion': 'gini'}\n",
      "Best score: 0.7975757575757575\n",
      "acc: 0.8781818181818182\n",
      "\n",
      "Performing cross-validation with 15 folds:\n",
      "Best parameters: {'splitter': 'best', 'min_samples_split': 2, 'min_samples_leaf': 1, 'max_features': None, 'max_depth': 10, 'criterion': 'gini'}\n",
      "Best score: 0.7927272727272728\n",
      "acc: 0.8848484848484849\n",
      "\n",
      "Performing cross-validation with 20 folds:\n",
      "Best parameters: {'splitter': 'best', 'min_samples_split': 5, 'min_samples_leaf': 1, 'max_features': None, 'max_depth': 10, 'criterion': 'gini'}\n",
      "Best score: 0.7920437848956803\n",
      "acc: 0.8781818181818182\n",
      "\n",
      "Performing cross-validation with 22 folds:\n",
      "Best parameters: {'splitter': 'best', 'min_samples_split': 5, 'min_samples_leaf': 1, 'max_features': None, 'max_depth': 10, 'criterion': 'gini'}\n",
      "Best score: 0.7939393939393938\n",
      "acc: 0.8781818181818182\n",
      "\n",
      "Performing cross-validation with 25 folds:\n",
      "Best parameters: {'splitter': 'best', 'min_samples_split': 5, 'min_samples_leaf': 1, 'max_features': None, 'max_depth': 10, 'criterion': 'gini'}\n",
      "Best score: 0.7975757575757575\n",
      "acc: 0.8781818181818182\n",
      "\n"
     ]
    }
   ],
   "source": [
    "from sklearn.model_selection import RandomizedSearchCV, KFold\n",
    "from sklearn.tree import DecisionTreeClassifier\n",
    "import numpy as np\n",
    "\n",
    "param_grid_decision_tree = {\n",
    "    'criterion': ['gini', 'entropy'],\n",
    "    'splitter': ['best', 'random'],\n",
    "    'max_depth': [None, 10, 20, 30, 40, 50],\n",
    "    'min_samples_split': [2, 5, 10],\n",
    "    'min_samples_leaf': [1, 2, 4],\n",
    "    'max_features': ['sqrt', 'log2', None],\n",
    "}\n",
    "\n",
    "num_folds_list = [5, 10, 15, 20, 22, 25]\n",
    "\n",
    "best_dt_model = None\n",
    "best_dt_score = float('-inf')\n",
    "\n",
    "for num_folds in num_folds_list:\n",
    "    print(f\"Performing cross-validation with {num_folds} folds:\")\n",
    "    \n",
    "    kf = KFold(n_splits=num_folds, shuffle=True, random_state=116) \n",
    "\n",
    "    dt_classifier = DecisionTreeClassifier(random_state=116)\n",
    "\n",
    "    dt_cv = RandomizedSearchCV(dt_classifier, param_grid_decision_tree, cv=kf, n_iter=168, random_state=116)\n",
    "    dt_cv.fit(X_train_scaled, y_train)\n",
    "    dt_acc = dt_cv.score(X_train_scaled, y_train)\n",
    "\n",
    "    print(\"Best parameters:\", dt_cv.best_params_)\n",
    "    print(\"Best score:\", dt_cv.best_score_)\n",
    "    print(\"acc:\",dt_acc)\n",
    "        \n",
    "    if dt_cv.best_score_ > best_dt_score:\n",
    "        best_dt_model = dt_cv.best_estimator_\n",
    "        best_dt_score = dt_cv.best_score_\n",
    "\n",
    "    print()"
   ]
  },
  {
   "cell_type": "code",
   "execution_count": 19,
   "id": "bbabec78",
   "metadata": {
    "execution": {
     "iopub.execute_input": "2024-05-13T04:08:31.293654Z",
     "iopub.status.busy": "2024-05-13T04:08:31.293346Z",
     "iopub.status.idle": "2024-05-13T04:08:31.309143Z",
     "shell.execute_reply": "2024-05-13T04:08:31.308218Z"
    },
    "papermill": {
     "duration": 0.04931,
     "end_time": "2024-05-13T04:08:31.311133",
     "exception": false,
     "start_time": "2024-05-13T04:08:31.261823",
     "status": "completed"
    },
    "tags": []
   },
   "outputs": [
    {
     "name": "stdout",
     "output_type": "stream",
     "text": [
      "DecisionTreeClassifier(max_depth=10, min_samples_split=5, random_state=116)\n",
      "0.8781818181818182\n",
      "0.7975757575757575\n",
      "79.69\n",
      "81.16\n",
      "82.2\n"
     ]
    }
   ],
   "source": [
    "train_score_dt = best_dt_model.score(X_train_scaled,y_train)\n",
    "test_score_dt = best_dt_score\n",
    "\n",
    "y_pred = best_dt_model.predict(X_test_scaled)\n",
    "\n",
    "f1 = np.round(f1_score(y_test, y_pred, average='macro')*100, 2)\n",
    "recall=np.round(recall_score(y_test, y_pred, average='macro')*100, 2)\n",
    "precision=np.round(precision_score(y_test, y_pred, average='macro')*100, 2)\n",
    "\n",
    "train_accuracies.append(train_score_dt)\n",
    "test_accuracies.append(test_score_dt)\n",
    "f1_scores.append(f1)\n",
    "recall_scores.append(recall)\n",
    "precision_scores.append(precision)\n",
    "\n",
    "print(best_dt_model)\n",
    "print(train_score_dt)\n",
    "print(test_score_dt)\n",
    "print(f1)\n",
    "print(recall)\n",
    "print(precision)"
   ]
  },
  {
   "cell_type": "code",
   "execution_count": null,
   "id": "81f90d2d",
   "metadata": {
    "papermill": {
     "duration": 0.030827,
     "end_time": "2024-05-13T04:08:31.372922",
     "exception": false,
     "start_time": "2024-05-13T04:08:31.342095",
     "status": "completed"
    },
    "tags": []
   },
   "outputs": [],
   "source": []
  },
  {
   "cell_type": "markdown",
   "id": "d69849c1",
   "metadata": {
    "papermill": {
     "duration": 0.030228,
     "end_time": "2024-05-13T04:08:31.433603",
     "exception": false,
     "start_time": "2024-05-13T04:08:31.403375",
     "status": "completed"
    },
    "tags": []
   },
   "source": [
    "### RF"
   ]
  },
  {
   "cell_type": "code",
   "execution_count": 20,
   "id": "ce05c865",
   "metadata": {
    "execution": {
     "iopub.execute_input": "2024-05-13T04:08:31.498169Z",
     "iopub.status.busy": "2024-05-13T04:08:31.497870Z",
     "iopub.status.idle": "2024-05-13T04:15:00.556966Z",
     "shell.execute_reply": "2024-05-13T04:15:00.556013Z"
    },
    "papermill": {
     "duration": 389.125478,
     "end_time": "2024-05-13T04:15:00.590002",
     "exception": false,
     "start_time": "2024-05-13T04:08:31.464524",
     "status": "completed"
    },
    "tags": []
   },
   "outputs": [
    {
     "name": "stdout",
     "output_type": "stream",
     "text": [
      "Performing cross-validation with 5 folds:\n",
      "Best parameters: {'n_estimators': 100, 'min_samples_split': 10, 'min_samples_leaf': 1, 'max_features': 'sqrt', 'max_depth': 50, 'criterion': 'entropy', 'bootstrap': True}\n",
      "Best score: 0.8042424242424241\n",
      "acc: 0.9496969696969697\n",
      "\n",
      "Performing cross-validation with 10 folds:\n",
      "Best parameters: {'n_estimators': 100, 'min_samples_split': 10, 'min_samples_leaf': 1, 'max_features': 'sqrt', 'max_depth': 50, 'criterion': 'entropy', 'bootstrap': True}\n",
      "Best score: 0.8012121212121212\n",
      "acc: 0.9496969696969697\n",
      "\n",
      "Performing cross-validation with 15 folds:\n",
      "Best parameters: {'n_estimators': 200, 'min_samples_split': 2, 'min_samples_leaf': 4, 'max_features': 'sqrt', 'max_depth': 10, 'criterion': 'gini', 'bootstrap': False}\n",
      "Best score: 0.8054545454545453\n",
      "acc: 0.8987878787878788\n",
      "\n",
      "Performing cross-validation with 20 folds:\n",
      "Best parameters: {'n_estimators': 100, 'min_samples_split': 10, 'min_samples_leaf': 1, 'max_features': 'sqrt', 'max_depth': 50, 'criterion': 'entropy', 'bootstrap': True}\n",
      "Best score: 0.8078533646782253\n",
      "acc: 0.9496969696969697\n",
      "\n",
      "Performing cross-validation with 22 folds:\n",
      "Best parameters: {'n_estimators': 200, 'min_samples_split': 2, 'min_samples_leaf': 4, 'max_features': 'sqrt', 'max_depth': 10, 'criterion': 'gini', 'bootstrap': False}\n",
      "Best score: 0.8060606060606061\n",
      "acc: 0.8987878787878788\n",
      "\n",
      "Performing cross-validation with 25 folds:\n",
      "Best parameters: {'n_estimators': 200, 'min_samples_split': 2, 'min_samples_leaf': 4, 'max_features': 'sqrt', 'max_depth': 10, 'criterion': 'gini', 'bootstrap': False}\n",
      "Best score: 0.8036363636363636\n",
      "acc: 0.8987878787878788\n",
      "\n"
     ]
    }
   ],
   "source": [
    "from sklearn.model_selection import RandomizedSearchCV, KFold\n",
    "from sklearn.ensemble import RandomForestClassifier\n",
    "import numpy as np\n",
    "\n",
    "param_grid_random_forest = {\n",
    "    'n_estimators': [50, 100, 200],\n",
    "    'criterion': ['gini', 'entropy'],\n",
    "    'max_depth': [None, 10, 20, 30, 40, 50],\n",
    "    'min_samples_split': [2, 5, 10],\n",
    "    'min_samples_leaf': [1, 2, 4],\n",
    "    'max_features': ['sqrt', 'log2', None],\n",
    "    'bootstrap': [True, False]\n",
    "}\n",
    "\n",
    "num_folds_list = [5, 10, 15, 20, 22, 25]\n",
    "\n",
    "best_rf_model = None\n",
    "best_rf_score = float('-inf')\n",
    "\n",
    "for num_folds in num_folds_list:\n",
    "    print(f\"Performing cross-validation with {num_folds} folds:\")\n",
    "    \n",
    "    kf = KFold(n_splits=num_folds, shuffle=True, random_state=116) \n",
    "\n",
    "    rf_classifier = RandomForestClassifier(random_state=116)\n",
    "\n",
    "    rf_cv = RandomizedSearchCV(rf_classifier, param_grid_random_forest, cv=kf, n_iter=10, random_state=116)\n",
    "    rf_cv.fit(X_train_scaled, y_train)\n",
    "    rf_acc = rf_cv.score(X_train_scaled, y_train)\n",
    "\n",
    "    print(\"Best parameters:\", rf_cv.best_params_)\n",
    "    print(\"Best score:\", rf_cv.best_score_)\n",
    "    print(\"acc:\",rf_acc)\n",
    "\n",
    "    if rf_cv.best_score_ > best_rf_score:\n",
    "        best_rf_model = rf_cv.best_estimator_\n",
    "        best_rf_score = rf_cv.best_score_\n",
    "    \n",
    "    print()"
   ]
  },
  {
   "cell_type": "code",
   "execution_count": 21,
   "id": "4ce70da7",
   "metadata": {
    "execution": {
     "iopub.execute_input": "2024-05-13T04:15:00.653749Z",
     "iopub.status.busy": "2024-05-13T04:15:00.653434Z",
     "iopub.status.idle": "2024-05-13T04:15:00.713991Z",
     "shell.execute_reply": "2024-05-13T04:15:00.712910Z"
    },
    "papermill": {
     "duration": 0.094852,
     "end_time": "2024-05-13T04:15:00.715928",
     "exception": false,
     "start_time": "2024-05-13T04:15:00.621076",
     "status": "completed"
    },
    "tags": []
   },
   "outputs": [
    {
     "name": "stdout",
     "output_type": "stream",
     "text": [
      "RandomForestClassifier(criterion='entropy', max_depth=50, min_samples_split=10,\n",
      "                       random_state=116)\n",
      "0.9496969696969697\n",
      "0.8078533646782253\n",
      "77.56\n",
      "78.05\n",
      "77.91\n"
     ]
    }
   ],
   "source": [
    "train_score_rf = best_rf_model.score(X_train_scaled,y_train)\n",
    "test_score_rf = best_rf_score\n",
    "\n",
    "y_pred = best_rf_model.predict(X_test_scaled)\n",
    "\n",
    "f1 = np.round(f1_score(y_test, y_pred, average='macro')*100, 2)\n",
    "recall=np.round(recall_score(y_test, y_pred, average='macro')*100, 2)\n",
    "precision=np.round(precision_score(y_test, y_pred, average='macro')*100, 2)\n",
    "\n",
    "train_accuracies.append(train_score_rf)\n",
    "test_accuracies.append(test_score_rf)\n",
    "f1_scores.append(f1)\n",
    "recall_scores.append(recall)\n",
    "precision_scores.append(precision)\n",
    "\n",
    "print(best_rf_model)\n",
    "print(train_score_rf)\n",
    "print(test_score_rf)\n",
    "print(f1)\n",
    "print(recall)\n",
    "print(precision)"
   ]
  },
  {
   "cell_type": "code",
   "execution_count": null,
   "id": "cc6af706",
   "metadata": {
    "papermill": {
     "duration": 0.030958,
     "end_time": "2024-05-13T04:15:00.778138",
     "exception": false,
     "start_time": "2024-05-13T04:15:00.747180",
     "status": "completed"
    },
    "tags": []
   },
   "outputs": [],
   "source": []
  },
  {
   "cell_type": "markdown",
   "id": "aadffebc",
   "metadata": {
    "papermill": {
     "duration": 0.031872,
     "end_time": "2024-05-13T04:15:00.841119",
     "exception": false,
     "start_time": "2024-05-13T04:15:00.809247",
     "status": "completed"
    },
    "tags": []
   },
   "source": [
    "### SVC"
   ]
  },
  {
   "cell_type": "code",
   "execution_count": 22,
   "id": "6d0f9622",
   "metadata": {
    "execution": {
     "iopub.execute_input": "2024-05-13T04:15:00.905854Z",
     "iopub.status.busy": "2024-05-13T04:15:00.904927Z",
     "iopub.status.idle": "2024-05-13T05:17:54.135572Z",
     "shell.execute_reply": "2024-05-13T05:17:54.134648Z"
    },
    "papermill": {
     "duration": 3773.297442,
     "end_time": "2024-05-13T05:17:54.170230",
     "exception": false,
     "start_time": "2024-05-13T04:15:00.872788",
     "status": "completed"
    },
    "tags": []
   },
   "outputs": [
    {
     "name": "stdout",
     "output_type": "stream",
     "text": [
      "Performing cross-validation with 5 folds:\n",
      "Best parameters: {'kernel': 'rbf', 'gamma': 'auto', 'degree': 4, 'coef0': 2.0, 'C': 46.41588833612773}\n",
      "Best score: 0.7806060606060605\n",
      "acc: 0.8242424242424242\n",
      "\n",
      "Performing cross-validation with 10 folds:\n",
      "Best parameters: {'kernel': 'poly', 'gamma': 'auto', 'degree': 2, 'coef0': 2.0, 'C': 46.41588833612773}\n",
      "Best score: 0.7866666666666666\n",
      "acc: 0.8145454545454546\n",
      "\n",
      "Performing cross-validation with 15 folds:\n",
      "Best parameters: {'kernel': 'poly', 'gamma': 'auto', 'degree': 2, 'coef0': 2.0, 'C': 215.44346900318823}\n",
      "Best score: 0.7878787878787877\n",
      "acc: 0.8290909090909091\n",
      "\n",
      "Performing cross-validation with 20 folds:\n",
      "Best parameters: {'kernel': 'rbf', 'gamma': 'auto', 'degree': 4, 'coef0': 2.0, 'C': 46.41588833612773}\n",
      "Best score: 0.7866147516896856\n",
      "acc: 0.8242424242424242\n",
      "\n",
      "Performing cross-validation with 22 folds:\n",
      "Best parameters: {'kernel': 'poly', 'gamma': 'auto', 'degree': 2, 'coef0': 2.0, 'C': 46.41588833612773}\n",
      "Best score: 0.7884848484848483\n",
      "acc: 0.8145454545454546\n",
      "\n",
      "Performing cross-validation with 25 folds:\n",
      "Best parameters: {'kernel': 'poly', 'gamma': 'auto', 'degree': 2, 'coef0': 2.0, 'C': 215.44346900318823}\n",
      "Best score: 0.7860606060606061\n",
      "acc: 0.8290909090909091\n",
      "\n"
     ]
    }
   ],
   "source": [
    "from sklearn.model_selection import RandomizedSearchCV, KFold\n",
    "from sklearn.svm import SVC\n",
    "import numpy as np\n",
    "\n",
    "param_grid_svc = {\n",
    "    'C': np.logspace(-3, 3, 10),              \n",
    "    'kernel': ['linear', 'poly', 'rbf', 'sigmoid'],  \n",
    "    'degree': [2, 3, 4],                      \n",
    "    'gamma': ['scale', 'auto'],               \n",
    "    'coef0': [0.0, 1.0, 2.0],                 \n",
    "}\n",
    "\n",
    "num_folds_list = [5, 10, 15, 20, 22, 25]\n",
    "\n",
    "best_svc_model = None\n",
    "best_svc_score = float('-inf')\n",
    "\n",
    "for num_folds in num_folds_list:\n",
    "    print(f\"Performing cross-validation with {num_folds} folds:\")\n",
    "    \n",
    "    kf = KFold(n_splits=num_folds, shuffle=True, random_state=116) \n",
    "\n",
    "    svc_classifier = SVC(random_state=116)\n",
    "\n",
    "    svc_cv = RandomizedSearchCV(svc_classifier, param_grid_svc, cv=kf, n_iter=168, random_state=116)\n",
    "    svc_cv.fit(X_train_scaled, y_train)\n",
    "    svc_acc = svc_cv.score(X_train_scaled, y_train)\n",
    "\n",
    "    print(\"Best parameters:\", svc_cv.best_params_)\n",
    "    print(\"Best score:\", svc_cv.best_score_)\n",
    "    print(\"acc:\",svc_acc)\n",
    "        \n",
    "    if svc_cv.best_score_ > best_svc_score:\n",
    "        best_svc_model = svc_cv.best_estimator_\n",
    "        best_svc_score = svc_cv.best_score_\n",
    "        \n",
    "    print()"
   ]
  },
  {
   "cell_type": "code",
   "execution_count": 23,
   "id": "4ff1c8a9",
   "metadata": {
    "execution": {
     "iopub.execute_input": "2024-05-13T05:17:54.235488Z",
     "iopub.status.busy": "2024-05-13T05:17:54.234776Z",
     "iopub.status.idle": "2024-05-13T05:17:54.332877Z",
     "shell.execute_reply": "2024-05-13T05:17:54.331808Z"
    },
    "papermill": {
     "duration": 0.132478,
     "end_time": "2024-05-13T05:17:54.334761",
     "exception": false,
     "start_time": "2024-05-13T05:17:54.202283",
     "status": "completed"
    },
    "tags": []
   },
   "outputs": [
    {
     "name": "stdout",
     "output_type": "stream",
     "text": [
      "SVC(C=46.41588833612773, coef0=2.0, degree=2, gamma='auto', kernel='poly',\n",
      "    random_state=116)\n",
      "0.8145454545454546\n",
      "0.7884848484848483\n",
      "75.74\n",
      "77.17\n",
      "76.78\n"
     ]
    }
   ],
   "source": [
    "from sklearn.metrics import precision_score, recall_score, f1_score, accuracy_score\n",
    "train_score_svc = best_svc_model.score(X_train_scaled,y_train)\n",
    "test_score_svc = best_svc_score\n",
    "\n",
    "y_pred = best_svc_model.predict(X_test_scaled)\n",
    "\n",
    "f1 = np.round(f1_score(y_test, y_pred, average='macro')*100, 2)\n",
    "recall=np.round(recall_score(y_test, y_pred, average='macro')*100, 2)\n",
    "precision=np.round(precision_score(y_test, y_pred, average='macro')*100, 2)\n",
    "\n",
    "train_accuracies.append(train_score_svc)\n",
    "test_accuracies.append(test_score_svc)\n",
    "f1_scores.append(f1)\n",
    "recall_scores.append(recall)\n",
    "precision_scores.append(precision)\n",
    "\n",
    "print(best_svc_model)\n",
    "print(train_score_svc)\n",
    "print(test_score_svc)\n",
    "print(f1)\n",
    "print(recall)\n",
    "print(precision)"
   ]
  },
  {
   "cell_type": "code",
   "execution_count": null,
   "id": "a4dd2399",
   "metadata": {
    "papermill": {
     "duration": 0.031601,
     "end_time": "2024-05-13T05:17:54.398202",
     "exception": false,
     "start_time": "2024-05-13T05:17:54.366601",
     "status": "completed"
    },
    "tags": []
   },
   "outputs": [],
   "source": []
  },
  {
   "cell_type": "markdown",
   "id": "e4f08ea0",
   "metadata": {
    "papermill": {
     "duration": 0.031538,
     "end_time": "2024-05-13T05:17:54.461298",
     "exception": false,
     "start_time": "2024-05-13T05:17:54.429760",
     "status": "completed"
    },
    "tags": []
   },
   "source": [
    "### GNB"
   ]
  },
  {
   "cell_type": "code",
   "execution_count": 24,
   "id": "6e91ea67",
   "metadata": {
    "execution": {
     "iopub.execute_input": "2024-05-13T05:17:54.526222Z",
     "iopub.status.busy": "2024-05-13T05:17:54.525485Z",
     "iopub.status.idle": "2024-05-13T05:17:54.541866Z",
     "shell.execute_reply": "2024-05-13T05:17:54.540863Z"
    },
    "papermill": {
     "duration": 0.050876,
     "end_time": "2024-05-13T05:17:54.543754",
     "exception": false,
     "start_time": "2024-05-13T05:17:54.492878",
     "status": "completed"
    },
    "tags": []
   },
   "outputs": [
    {
     "name": "stdout",
     "output_type": "stream",
     "text": [
      "0.8024242424242424\n",
      "0.76\n"
     ]
    }
   ],
   "source": [
    "from sklearn.model_selection import KFold, cross_val_score\n",
    "from sklearn.naive_bayes import GaussianNB\n",
    "\n",
    "\n",
    "gnb_classifier = GaussianNB(priors = None,var_smoothing = 1e-9)\n",
    "gnb_classifier.fit(X_train_scaled,y_train)\n",
    "    \n",
    "print(gnb_classifier.score(X_train_scaled,y_train))\n",
    "print(gnb_classifier.score(X_test_scaled,y_test))"
   ]
  },
  {
   "cell_type": "code",
   "execution_count": 25,
   "id": "a8ac7675",
   "metadata": {
    "execution": {
     "iopub.execute_input": "2024-05-13T05:17:54.608649Z",
     "iopub.status.busy": "2024-05-13T05:17:54.608394Z",
     "iopub.status.idle": "2024-05-13T05:17:54.627233Z",
     "shell.execute_reply": "2024-05-13T05:17:54.626290Z"
    },
    "papermill": {
     "duration": 0.053441,
     "end_time": "2024-05-13T05:17:54.629069",
     "exception": false,
     "start_time": "2024-05-13T05:17:54.575628",
     "status": "completed"
    },
    "tags": []
   },
   "outputs": [
    {
     "name": "stdout",
     "output_type": "stream",
     "text": [
      "0.8024242424242424\n",
      "0.76\n",
      "76.19\n",
      "77.14\n",
      "76.71\n"
     ]
    }
   ],
   "source": [
    "train_score_gnb = gnb_classifier.score(X_train_scaled,y_train)\n",
    "test_score_gnb = gnb_classifier.score(X_test_scaled,y_test)\n",
    "\n",
    "y_pred = gnb_classifier.predict(X_test_scaled)\n",
    "\n",
    "f1 = np.round(f1_score(y_test, y_pred, average='macro')*100, 2)\n",
    "recall=np.round(recall_score(y_test, y_pred, average='macro')*100, 2)\n",
    "precision=np.round(precision_score(y_test, y_pred, average='macro')*100, 2)\n",
    "\n",
    "\n",
    "train_accuracies.append(train_score_gnb)\n",
    "test_accuracies.append(test_score_gnb)\n",
    "f1_scores.append(f1)\n",
    "recall_scores.append(recall)\n",
    "precision_scores.append(precision)\n",
    "\n",
    "print(train_score_gnb)\n",
    "print(test_score_gnb)\n",
    "print(f1)\n",
    "print(recall)\n",
    "print(precision)"
   ]
  },
  {
   "cell_type": "markdown",
   "id": "bbf4864f",
   "metadata": {
    "papermill": {
     "duration": 0.031831,
     "end_time": "2024-05-13T05:17:54.693112",
     "exception": false,
     "start_time": "2024-05-13T05:17:54.661281",
     "status": "completed"
    },
    "tags": []
   },
   "source": [
    "### XGBoost"
   ]
  },
  {
   "cell_type": "code",
   "execution_count": 26,
   "id": "9542ab25",
   "metadata": {
    "execution": {
     "iopub.execute_input": "2024-05-13T05:17:54.758422Z",
     "iopub.status.busy": "2024-05-13T05:17:54.758120Z",
     "iopub.status.idle": "2024-05-13T06:13:41.241102Z",
     "shell.execute_reply": "2024-05-13T06:13:41.240098Z"
    },
    "papermill": {
     "duration": 3346.550272,
     "end_time": "2024-05-13T06:13:41.275105",
     "exception": false,
     "start_time": "2024-05-13T05:17:54.724833",
     "status": "completed"
    },
    "tags": []
   },
   "outputs": [
    {
     "name": "stdout",
     "output_type": "stream",
     "text": [
      "Performing cross-validation with 5 folds:\n",
      "XGBoost - Best parameters: {'subsample': 1.0, 'n_estimators': 100, 'max_depth': 3, 'learning_rate': 0.05, 'colsample_bytree': 0.9}\n",
      "XGBoost - Best score: 0.809090909090909\n",
      "XGBoost - Accuracy: 0.8763636363636363\n",
      "\n",
      "Performing cross-validation with 10 folds:\n",
      "XGBoost - Best parameters: {'subsample': 1.0, 'n_estimators': 300, 'max_depth': 3, 'learning_rate': 0.05, 'colsample_bytree': 0.9}\n",
      "XGBoost - Best score: 0.8127272727272727\n",
      "XGBoost - Accuracy: 0.9678787878787879\n",
      "\n",
      "Performing cross-validation with 15 folds:\n",
      "XGBoost - Best parameters: {'subsample': 1.0, 'n_estimators': 200, 'max_depth': 5, 'learning_rate': 0.01, 'colsample_bytree': 0.9}\n",
      "XGBoost - Best score: 0.8187878787878787\n",
      "XGBoost - Accuracy: 0.8878787878787879\n",
      "\n",
      "Performing cross-validation with 20 folds:\n",
      "XGBoost - Best parameters: {'subsample': 1.0, 'n_estimators': 100, 'max_depth': 7, 'learning_rate': 0.01, 'colsample_bytree': 0.9}\n",
      "XGBoost - Best score: 0.8156920364384366\n",
      "XGBoost - Accuracy: 0.8993939393939394\n",
      "\n",
      "Performing cross-validation with 22 folds:\n",
      "XGBoost - Best parameters: {'subsample': 0.8, 'n_estimators': 100, 'max_depth': 7, 'learning_rate': 0.01, 'colsample_bytree': 0.8}\n",
      "XGBoost - Best score: 0.818181818181818\n",
      "XGBoost - Accuracy: 0.8981818181818182\n",
      "\n",
      "Performing cross-validation with 25 folds:\n",
      "XGBoost - Best parameters: {'subsample': 1.0, 'n_estimators': 200, 'max_depth': 7, 'learning_rate': 0.01, 'colsample_bytree': 0.9}\n",
      "XGBoost - Best score: 0.8193939393939392\n",
      "XGBoost - Accuracy: 0.9278787878787879\n",
      "\n"
     ]
    }
   ],
   "source": [
    "from sklearn.model_selection import RandomizedSearchCV, KFold\n",
    "from xgboost import XGBClassifier\n",
    "import numpy as np\n",
    "\n",
    "param_grid_xgb = {\n",
    "    'n_estimators': [100, 200, 300],\n",
    "    'max_depth': [3, 5, 7],\n",
    "    'learning_rate': [0.01, 0.05, 0.1],\n",
    "    'subsample': [0.8, 0.9, 1.0],\n",
    "    'colsample_bytree': [0.8, 0.9, 1.0],\n",
    "}\n",
    "\n",
    "\n",
    "num_folds_list = [5, 10, 15, 20, 22, 25]\n",
    "\n",
    "best_xgb_model = None\n",
    "best_xgb_score = float('-inf')\n",
    "\n",
    "for num_folds in num_folds_list:\n",
    "    print(f\"Performing cross-validation with {num_folds} folds:\")\n",
    "    \n",
    "    kf = KFold(n_splits=num_folds, shuffle=True, random_state=116) \n",
    "\n",
    "    xgb_classifier = XGBClassifier(random_state=116)\n",
    "    xgb_cv = RandomizedSearchCV(xgb_classifier, param_grid_xgb, cv=kf, n_iter=30, random_state=116)\n",
    "    xgb_cv.fit(X_train_scaled, y_train)\n",
    "    xgb_acc = xgb_cv.score(X_train_scaled, y_train)\n",
    "\n",
    "    print(\"XGBoost - Best parameters:\", xgb_cv.best_params_)\n",
    "    print(\"XGBoost - Best score:\", xgb_cv.best_score_)\n",
    "    print(\"XGBoost - Accuracy:\", xgb_acc)\n",
    "        \n",
    "    if xgb_cv.best_score_ > best_xgb_score:\n",
    "        best_xgb_model = xgb_cv.best_estimator_\n",
    "        best_xgb_score = xgb_cv.best_score_\n",
    "\n",
    "    print()\n"
   ]
  },
  {
   "cell_type": "code",
   "execution_count": 27,
   "id": "fb07d790",
   "metadata": {
    "execution": {
     "iopub.execute_input": "2024-05-13T06:13:41.344076Z",
     "iopub.status.busy": "2024-05-13T06:13:41.343264Z",
     "iopub.status.idle": "2024-05-13T06:13:41.412225Z",
     "shell.execute_reply": "2024-05-13T06:13:41.411440Z"
    },
    "papermill": {
     "duration": 0.106206,
     "end_time": "2024-05-13T06:13:41.414397",
     "exception": false,
     "start_time": "2024-05-13T06:13:41.308191",
     "status": "completed"
    },
    "tags": []
   },
   "outputs": [
    {
     "name": "stdout",
     "output_type": "stream",
     "text": [
      "XGBClassifier(base_score=None, booster=None, callbacks=None,\n",
      "              colsample_bylevel=None, colsample_bynode=None,\n",
      "              colsample_bytree=0.9, device=None, early_stopping_rounds=None,\n",
      "              enable_categorical=False, eval_metric=None, feature_types=None,\n",
      "              gamma=None, grow_policy=None, importance_type=None,\n",
      "              interaction_constraints=None, learning_rate=0.01, max_bin=None,\n",
      "              max_cat_threshold=None, max_cat_to_onehot=None,\n",
      "              max_delta_step=None, max_depth=7, max_leaves=None,\n",
      "              min_child_weight=None, missing=nan, monotone_constraints=None,\n",
      "              multi_strategy=None, n_estimators=200, n_jobs=None,\n",
      "              num_parallel_tree=None, objective='multi:softprob', ...)\n",
      "0.9278787878787879\n",
      "0.8193939393939392\n",
      "79.74\n",
      "80.68\n",
      "80.09\n"
     ]
    }
   ],
   "source": [
    "from sklearn.metrics import precision_score, recall_score, f1_score, accuracy_score\n",
    "train_score_svc = best_xgb_model.score(X_train_scaled,y_train)\n",
    "test_score_svc = best_xgb_score\n",
    "\n",
    "y_pred = best_xgb_model.predict(X_test_scaled)\n",
    "\n",
    "f1 = np.round(f1_score(y_test, y_pred, average='macro')*100, 2)\n",
    "recall=np.round(recall_score(y_test, y_pred, average='macro')*100, 2)\n",
    "precision=np.round(precision_score(y_test, y_pred, average='macro')*100, 2)\n",
    "\n",
    "train_accuracies.append(train_score_svc)\n",
    "test_accuracies.append(test_score_svc)\n",
    "f1_scores.append(f1)\n",
    "recall_scores.append(recall)\n",
    "precision_scores.append(precision)\n",
    "\n",
    "print(best_xgb_model)\n",
    "print(train_score_svc)\n",
    "print(test_score_svc)\n",
    "print(f1)\n",
    "print(recall)\n",
    "print(precision)"
   ]
  },
  {
   "cell_type": "markdown",
   "id": "946473ad",
   "metadata": {
    "papermill": {
     "duration": 0.03248,
     "end_time": "2024-05-13T06:13:41.480834",
     "exception": false,
     "start_time": "2024-05-13T06:13:41.448354",
     "status": "completed"
    },
    "tags": []
   },
   "source": [
    "### AdaBoost"
   ]
  },
  {
   "cell_type": "code",
   "execution_count": 28,
   "id": "70fedff8",
   "metadata": {
    "execution": {
     "iopub.execute_input": "2024-05-13T06:13:41.548768Z",
     "iopub.status.busy": "2024-05-13T06:13:41.547945Z",
     "iopub.status.idle": "2024-05-13T06:18:28.828581Z",
     "shell.execute_reply": "2024-05-13T06:18:28.827475Z"
    },
    "papermill": {
     "duration": 287.350416,
     "end_time": "2024-05-13T06:18:28.864352",
     "exception": false,
     "start_time": "2024-05-13T06:13:41.513936",
     "status": "completed"
    },
    "tags": []
   },
   "outputs": [
    {
     "name": "stdout",
     "output_type": "stream",
     "text": [
      "Performing cross-validation with 5 folds:\n",
      "AdaBoost - Best parameters: {'n_estimators': 100, 'learning_rate': 0.01}\n",
      "AdaBoost - Best score: 0.4793939393939394\n",
      "AdaBoost - Accuracy: 0.5048484848484849\n",
      "\n",
      "Performing cross-validation with 10 folds:\n",
      "AdaBoost - Best parameters: {'n_estimators': 50, 'learning_rate': 0.1}\n",
      "AdaBoost - Best score: 0.4793939393939394\n",
      "AdaBoost - Accuracy: 0.46424242424242423\n",
      "\n",
      "Performing cross-validation with 15 folds:\n",
      "AdaBoost - Best parameters: {'n_estimators': 50, 'learning_rate': 0.05}\n",
      "AdaBoost - Best score: 0.4757575757575757\n",
      "AdaBoost - Accuracy: 0.5036363636363637\n",
      "\n",
      "Performing cross-validation with 20 folds:\n",
      "AdaBoost - Best parameters: {'n_estimators': 100, 'learning_rate': 0.01}\n",
      "AdaBoost - Best score: 0.47209814869233035\n",
      "AdaBoost - Accuracy: 0.5048484848484849\n",
      "\n",
      "Performing cross-validation with 22 folds:\n",
      "AdaBoost - Best parameters: {'n_estimators': 50, 'learning_rate': 0.05}\n",
      "AdaBoost - Best score: 0.4745454545454546\n",
      "AdaBoost - Accuracy: 0.5036363636363637\n",
      "\n",
      "Performing cross-validation with 25 folds:\n",
      "AdaBoost - Best parameters: {'n_estimators': 50, 'learning_rate': 0.05}\n",
      "AdaBoost - Best score: 0.47151515151515155\n",
      "AdaBoost - Accuracy: 0.5036363636363637\n",
      "\n"
     ]
    }
   ],
   "source": [
    "from sklearn.model_selection import RandomizedSearchCV, KFold\n",
    "from sklearn.ensemble import AdaBoostClassifier\n",
    "import numpy as np\n",
    "\n",
    "param_grid_adaboost = {\n",
    "    'n_estimators': [50, 100, 150],\n",
    "    'learning_rate': [0.01, 0.05, 0.1],\n",
    "}\n",
    "\n",
    "num_folds_list = [5, 10, 15, 20, 22, 25]\n",
    "\n",
    "best_adaboost_model = None\n",
    "best_adaboost_score = float('-inf')\n",
    "\n",
    "for num_folds in num_folds_list:\n",
    "    print(f\"Performing cross-validation with {num_folds} folds:\")\n",
    "    \n",
    "    kf = KFold(n_splits=num_folds, shuffle=True, random_state=116) \n",
    "\n",
    "    adaboost_classifier = AdaBoostClassifier(random_state=116)\n",
    "    adaboost_cv = RandomizedSearchCV(adaboost_classifier, param_grid_adaboost, cv=kf, n_iter=30, random_state=116)\n",
    "    adaboost_cv.fit(X_train_scaled, y_train)\n",
    "    adaboost_acc = adaboost_cv.score(X_train_scaled, y_train)\n",
    "\n",
    "    print(\"AdaBoost - Best parameters:\", adaboost_cv.best_params_)\n",
    "    print(\"AdaBoost - Best score:\", adaboost_cv.best_score_)\n",
    "    print(\"AdaBoost - Accuracy:\", adaboost_acc)\n",
    "        \n",
    "    if adaboost_cv.best_score_ > best_adaboost_score:\n",
    "        best_adaboost_model = adaboost_cv.best_estimator_\n",
    "        best_adaboost_score = adaboost_cv.best_score_\n",
    "\n",
    "    print()\n"
   ]
  },
  {
   "cell_type": "code",
   "execution_count": 29,
   "id": "2a50cca3",
   "metadata": {
    "execution": {
     "iopub.execute_input": "2024-05-13T06:18:28.932303Z",
     "iopub.status.busy": "2024-05-13T06:18:28.931952Z",
     "iopub.status.idle": "2024-05-13T06:18:29.035773Z",
     "shell.execute_reply": "2024-05-13T06:18:29.034765Z"
    },
    "papermill": {
     "duration": 0.139813,
     "end_time": "2024-05-13T06:18:29.037583",
     "exception": false,
     "start_time": "2024-05-13T06:18:28.897770",
     "status": "completed"
    },
    "tags": []
   },
   "outputs": [
    {
     "name": "stdout",
     "output_type": "stream",
     "text": [
      "AdaBoostClassifier(learning_rate=0.01, n_estimators=100, random_state=116)\n",
      "0.5048484848484849\n",
      "0.4793939393939394\n",
      "37.36\n",
      "50.48\n",
      "33.02\n"
     ]
    }
   ],
   "source": [
    "from sklearn.metrics import precision_score, recall_score, f1_score, accuracy_score\n",
    "train_score_svc = best_adaboost_model.score(X_train_scaled,y_train)\n",
    "test_score_svc = best_adaboost_score\n",
    "\n",
    "y_pred = best_adaboost_model.predict(X_test_scaled)\n",
    "\n",
    "f1 = np.round(f1_score(y_test, y_pred, average='macro')*100, 2)\n",
    "recall=np.round(recall_score(y_test, y_pred, average='macro')*100, 2)\n",
    "precision=np.round(precision_score(y_test, y_pred, average='macro')*100, 2)\n",
    "\n",
    "train_accuracies.append(train_score_svc)\n",
    "test_accuracies.append(test_score_svc)\n",
    "f1_scores.append(f1)\n",
    "recall_scores.append(recall)\n",
    "precision_scores.append(precision)\n",
    "\n",
    "print(best_adaboost_model)\n",
    "print(train_score_svc)\n",
    "print(test_score_svc)\n",
    "print(f1)\n",
    "print(recall)\n",
    "print(precision)"
   ]
  },
  {
   "cell_type": "markdown",
   "id": "2e145a19",
   "metadata": {
    "papermill": {
     "duration": 0.033056,
     "end_time": "2024-05-13T06:18:29.104155",
     "exception": false,
     "start_time": "2024-05-13T06:18:29.071099",
     "status": "completed"
    },
    "tags": []
   },
   "source": [
    "### Bagging Alogirithms"
   ]
  },
  {
   "cell_type": "code",
   "execution_count": 30,
   "id": "357bd59b",
   "metadata": {
    "execution": {
     "iopub.execute_input": "2024-05-13T06:18:29.173090Z",
     "iopub.status.busy": "2024-05-13T06:18:29.172767Z",
     "iopub.status.idle": "2024-05-13T07:44:12.085675Z",
     "shell.execute_reply": "2024-05-13T07:44:12.084699Z"
    },
    "papermill": {
     "duration": 5142.987139,
     "end_time": "2024-05-13T07:44:12.125616",
     "exception": false,
     "start_time": "2024-05-13T06:18:29.138477",
     "status": "completed"
    },
    "tags": []
   },
   "outputs": [
    {
     "name": "stdout",
     "output_type": "stream",
     "text": [
      "Performing cross-validation with 5 folds:\n",
      "Best parameters: {'max_depth': 7, 'max_features': 'auto', 'min_samples_leaf': 2, 'min_samples_split': 10, 'n_estimators': 50}\n",
      "Best score: 0.769090909090909\n",
      "Accuracy: 0.8436363636363636\n",
      "\n",
      "Performing cross-validation with 10 folds:\n",
      "Best parameters: {'max_depth': 7, 'max_features': 'auto', 'min_samples_leaf': 2, 'min_samples_split': 2, 'n_estimators': 100}\n",
      "Best score: 0.7715151515151515\n",
      "Accuracy: 0.8484848484848485\n",
      "\n",
      "Performing cross-validation with 15 folds:\n",
      "Best parameters: {'max_depth': 7, 'max_features': 'auto', 'min_samples_leaf': 2, 'min_samples_split': 10, 'n_estimators': 100}\n",
      "Best score: 0.7690909090909092\n",
      "Accuracy: 0.8436363636363636\n",
      "\n",
      "Performing cross-validation with 20 folds:\n",
      "Best parameters: {'max_depth': 7, 'max_features': 'auto', 'min_samples_leaf': 1, 'min_samples_split': 2, 'n_estimators': 50}\n",
      "Best score: 0.7672054069938291\n",
      "Accuracy: 0.8581818181818182\n",
      "\n",
      "Performing cross-validation with 22 folds:\n",
      "Best parameters: {'max_depth': 7, 'max_features': 'auto', 'min_samples_leaf': 2, 'min_samples_split': 5, 'n_estimators': 50}\n",
      "Best score: 0.7684848484848487\n",
      "Accuracy: 0.8460606060606061\n",
      "\n",
      "Performing cross-validation with 25 folds:\n",
      "Best parameters: {'max_depth': 7, 'max_features': 'auto', 'min_samples_leaf': 1, 'min_samples_split': 5, 'n_estimators': 100}\n",
      "Best score: 0.770909090909091\n",
      "Accuracy: 0.8557575757575757\n",
      "\n"
     ]
    }
   ],
   "source": [
    "from sklearn.model_selection import GridSearchCV, KFold\n",
    "from sklearn.ensemble import ExtraTreesClassifier\n",
    "\n",
    "# Parameter grid for Extra Trees classifier\n",
    "param_grid_extra_trees = {\n",
    "    'n_estimators': [50, 100, 200],\n",
    "    'max_depth': [3, 5, 7],\n",
    "    'min_samples_split': [2, 5, 10],\n",
    "    'min_samples_leaf': [1, 2, 4],\n",
    "    'max_features': ['auto', 'sqrt', 'log2']\n",
    "}\n",
    "\n",
    "num_folds_list = [5, 10, 15, 20, 22, 25]\n",
    "\n",
    "best_extra_trees_model = None\n",
    "best_extra_trees_score = float('-inf')\n",
    "\n",
    "for num_folds in num_folds_list:\n",
    "    print(f\"Performing cross-validation with {num_folds} folds:\")\n",
    "    \n",
    "    kf = KFold(n_splits=num_folds, shuffle=True, random_state=116) \n",
    "\n",
    "    extra_trees_classifier = ExtraTreesClassifier(random_state=116)\n",
    "\n",
    "    extra_trees_cv = GridSearchCV(extra_trees_classifier, param_grid_extra_trees, cv=kf)\n",
    "    extra_trees_cv.fit(X_train_scaled, y_train)\n",
    "    extra_trees_acc = extra_trees_cv.score(X_train_scaled, y_train)\n",
    "\n",
    "    print(\"Best parameters:\", extra_trees_cv.best_params_)\n",
    "    print(\"Best score:\", extra_trees_cv.best_score_)\n",
    "    print(\"Accuracy:\", extra_trees_acc)\n",
    "        \n",
    "    if extra_trees_cv.best_score_ > best_extra_trees_score:\n",
    "        best_extra_trees_model = extra_trees_cv.best_estimator_\n",
    "        best_extra_trees_score = extra_trees_cv.best_score_\n",
    "\n",
    "    print()"
   ]
  },
  {
   "cell_type": "code",
   "execution_count": 31,
   "id": "f86e938b",
   "metadata": {
    "execution": {
     "iopub.execute_input": "2024-05-13T07:44:12.197453Z",
     "iopub.status.busy": "2024-05-13T07:44:12.196563Z",
     "iopub.status.idle": "2024-05-13T07:44:12.254867Z",
     "shell.execute_reply": "2024-05-13T07:44:12.253742Z"
    },
    "papermill": {
     "duration": 0.096579,
     "end_time": "2024-05-13T07:44:12.256863",
     "exception": false,
     "start_time": "2024-05-13T07:44:12.160284",
     "status": "completed"
    },
    "tags": []
   },
   "outputs": [
    {
     "name": "stdout",
     "output_type": "stream",
     "text": [
      "ExtraTreesClassifier(max_depth=7, max_features='auto', min_samples_leaf=2,\n",
      "                     random_state=116)\n",
      "0.8484848484848485\n",
      "0.7715151515151515\n",
      "74.39\n",
      "76.51\n",
      "76.7\n"
     ]
    }
   ],
   "source": [
    "from sklearn.metrics import precision_score, recall_score, f1_score, accuracy_score\n",
    "train_score_svc = best_extra_trees_model.score(X_train_scaled,y_train)\n",
    "test_score_svc = best_extra_trees_score\n",
    "\n",
    "y_pred = best_extra_trees_model.predict(X_test_scaled)\n",
    "\n",
    "f1 = np.round(f1_score(y_test, y_pred, average='macro')*100, 2)\n",
    "recall=np.round(recall_score(y_test, y_pred, average='macro')*100, 2)\n",
    "precision=np.round(precision_score(y_test, y_pred, average='macro')*100, 2)\n",
    "\n",
    "train_accuracies.append(train_score_svc)\n",
    "test_accuracies.append(test_score_svc)\n",
    "f1_scores.append(f1)\n",
    "recall_scores.append(recall)\n",
    "precision_scores.append(precision)\n",
    "\n",
    "print(best_extra_trees_model)\n",
    "print(train_score_svc)\n",
    "print(test_score_svc)\n",
    "print(f1)\n",
    "print(recall)\n",
    "print(precision)"
   ]
  },
  {
   "cell_type": "markdown",
   "id": "b2ab2f6e",
   "metadata": {
    "papermill": {
     "duration": 0.035749,
     "end_time": "2024-05-13T07:44:12.408536",
     "exception": false,
     "start_time": "2024-05-13T07:44:12.372787",
     "status": "completed"
    },
    "tags": []
   },
   "source": [
    "### Predicting the crop type"
   ]
  },
  {
   "cell_type": "code",
   "execution_count": 33,
   "id": "b2a3298a",
   "metadata": {
    "execution": {
     "iopub.execute_input": "2024-05-13T07:44:12.480003Z",
     "iopub.status.busy": "2024-05-13T07:44:12.479128Z",
     "iopub.status.idle": "2024-05-13T07:44:12.485250Z",
     "shell.execute_reply": "2024-05-13T07:44:12.484357Z"
    },
    "papermill": {
     "duration": 0.043734,
     "end_time": "2024-05-13T07:44:12.487130",
     "exception": false,
     "start_time": "2024-05-13T07:44:12.443396",
     "status": "completed"
    },
    "tags": []
   },
   "outputs": [
    {
     "name": "stdout",
     "output_type": "stream",
     "text": [
      "(4, 1)\n",
      "(1, 4)\n"
     ]
    }
   ],
   "source": [
    "test1 = np.array([39,139,201,5.5])\n",
    "test1 = test1.reshape(-1,1)\n",
    "print(test1.shape)\n",
    "test1 = np.reshape(test1, (1, 4))\n",
    "print(test1.shape)\n",
    "#pred1 = best_dt_model.predict(test1)\n",
    "#pred1"
   ]
  },
  {
   "cell_type": "markdown",
   "id": "6b1a94cd",
   "metadata": {
    "papermill": {
     "duration": 0.035556,
     "end_time": "2024-05-13T07:44:12.557822",
     "exception": false,
     "start_time": "2024-05-13T07:44:12.522266",
     "status": "completed"
    },
    "tags": []
   },
   "source": [
    "### Plotting the results"
   ]
  },
  {
   "cell_type": "code",
   "execution_count": 34,
   "id": "e7f524b2",
   "metadata": {
    "execution": {
     "iopub.execute_input": "2024-05-13T07:44:12.630982Z",
     "iopub.status.busy": "2024-05-13T07:44:12.629724Z",
     "iopub.status.idle": "2024-05-13T07:44:13.124078Z",
     "shell.execute_reply": "2024-05-13T07:44:13.123021Z"
    },
    "papermill": {
     "duration": 0.533429,
     "end_time": "2024-05-13T07:44:13.126498",
     "exception": false,
     "start_time": "2024-05-13T07:44:12.593069",
     "status": "completed"
    },
    "tags": []
   },
   "outputs": [
    {
     "data": {
      "image/png": "[encoded data removed]",
      "text/plain": [
       "<Figure size 1000x600 with 1 Axes>"
      ]
     },
     "metadata": {},
     "output_type": "display_data"
    }
   ],
   "source": [
    "import matplotlib.pyplot as plt\n",
    "import numpy as np\n",
    "\n",
    "plt.figure(figsize=(10, 6))\n",
    "\n",
    "model_names = ['KNN', 'Logreg-OVR', 'Logreg-MN', 'DT', 'RF', 'SVC', 'GNB','XGB','AdaBoost','ExtraTree']\n",
    "\n",
    "model_scores = [f1_scores, precision_scores, recall_scores]\n",
    "score_labels = ['F1-score','Precision' ,'Recall']\n",
    "plt.plot(score_labels, model_scores, marker='o', label=model_names)\n",
    "\n",
    "plt.xlabel('Evaluation Metrics')\n",
    "plt.ylabel('Scores')\n",
    "plt.title('Scores for Different Models')\n",
    "plt.grid(True)\n",
    "plt.legend()\n",
    "plt.xticks(rotation=45)\n",
    "plt.show()"
   ]
  },
  {
   "cell_type": "code",
   "execution_count": 36,
   "id": "7f6564fd",
   "metadata": {
    "execution": {
     "iopub.execute_input": "2024-05-13T07:44:13.284174Z",
     "iopub.status.busy": "2024-05-13T07:44:13.283349Z",
     "iopub.status.idle": "2024-05-13T07:44:13.671078Z",
     "shell.execute_reply": "2024-05-13T07:44:13.670241Z"
    },
    "papermill": {
     "duration": 0.427955,
     "end_time": "2024-05-13T07:44:13.673814",
     "exception": false,
     "start_time": "2024-05-13T07:44:13.245859",
     "status": "completed"
    },
    "tags": []
   },
   "outputs": [
    {
     "data": {
      "image/png": "[encoded data removed]",
      "text/plain": [
       "<Figure size 1000x600 with 1 Axes>"
      ]
     },
     "metadata": {},
     "output_type": "display_data"
    }
   ],
   "source": [
    "model_names = ['KNN', 'Logreg-OVR', 'Logreg-MN', 'DT', 'RF', 'SVC', 'GNB','XGB','AdaBoost','ExtraTree']\n",
    "plt.figure(figsize=(10, 6))\n",
    "plt.plot(model_names, train_accuracies, marker='d', label='Training Accuracy')\n",
    "plt.plot(model_names, test_accuracies, marker='d', label='Testing Accuracy')\n",
    "plt.title('Training vs Testing Accuracy for Different Models')\n",
    "plt.xlabel('Model')\n",
    "plt.ylabel('Accuracy')\n",
    "plt.xticks(rotation=45)\n",
    "plt.legend()\n",
    "plt.grid(True)\n",
    "plt.tight_layout()\n",
    "plt.show()"
   ]
  }
 ],
 "metadata": {
  "kaggle": {
   "accelerator": "gpu",
   "dataSources": [
    {
     "datasetId": 4395948,
     "sourceId": 7547955,
     "sourceType": "datasetVersion"
    }
   ],
   "dockerImageVersionId": 30665,
   "isGpuEnabled": true,
   "isInternetEnabled": true,
   "language": "python",
   "sourceType": "notebook"
  },
  "kernelspec": {
   "display_name": "Python 3",
   "language": "python",
   "name": "python3"
  },
  "language_info": {
   "codemirror_mode": {
    "name": "ipython",
    "version": 3
   },
   "file_extension": ".py",
   "mimetype": "text/x-python",
   "name": "python",
   "nbconvert_exporter": "python",
   "pygments_lexer": "ipython3",
   "version": "3.10.13"
  },
  "papermill": {
   "default_parameters": {},
   "duration": 13984.064793,
   "end_time": "2024-05-13T07:44:30.833816",
   "environment_variables": {},
   "exception": true,
   "input_path": "__notebook__.ipynb",
   "output_path": "__notebook__.ipynb",
   "parameters": {},
   "start_time": "2024-05-13T03:51:26.769023",
   "version": "2.5.0"
  }
 },
 "nbformat": 4,
 "nbformat_minor": 5
}
